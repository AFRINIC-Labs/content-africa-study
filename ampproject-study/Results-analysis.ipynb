{
 "cells": [
  {
   "cell_type": "code",
   "execution_count": 24,
   "metadata": {},
   "outputs": [],
   "source": [
    "import requests\n",
    "import json, re, time\n",
    "from datetime import datetime\n",
    "import pandas as pd\n",
    "import numpy as np\n",
    "\n",
    "with open('api.key','r') as f:\n",
    "    APIKEY = f.read()\n",
    "\n",
    "HEADERS = {'apikey': APIKEY,\n",
    "            'accept': 'application/json',\n",
    "            'content-type': 'application/json',\n",
    "            'cookie': 'ASP.NET_SessionId=aiggen1ccck0gq141dgq1sip; ASP.NET_SessionId=aiggen1ccck0gq141dgq1sip'\n",
    "          }\n",
    "\n",
    "API_ENDPOINT = 'https://kong.speedcheckerapi.com:8443/ProbeAPIv2/'\n",
    "\n"
   ]
  },
  {
   "cell_type": "code",
   "execution_count": 26,
   "metadata": {},
   "outputs": [],
   "source": [
    "def retrievePageLoadTestResults(testID):\n",
    "    \n",
    "    url = API_ENDPOINT + \"GetPageLoadResults?apikey=\" + APIKEY + \"&testID=\" + testID\n",
    "    print(url)\n",
    "    try:    \n",
    "        r = requests.get(url, headers=HEADERS)\n",
    "    except requests.exceptions.RequestException as e:  # This is the correct syntax\n",
    "        return []\n",
    "    \n",
    "    res = json.loads(r.text)\n",
    "    print(res)\n",
    "    return res['PageLoadTestResults']"
   ]
  },
  {
   "cell_type": "code",
   "execution_count": null,
   "metadata": {},
   "outputs": [],
   "source": [
    "df_tests_url = pd.read_csv('data/url_testID_3.csv', sep='|', encoding='utf-8', keep_default_na=False)\n",
    "df_tests_url = df_tests_url.loc[df_tests_url.testID!='FAILED']\n",
    "df_tests_url"
   ]
  },
  {
   "cell_type": "code",
   "execution_count": null,
   "metadata": {},
   "outputs": [],
   "source": [
    "df_results = pd.DataFrame(columns=['ProbeInfo',\n",
    "                                       'TestDateTime',\n",
    "                                       'StatusCode',\n",
    "                                       'StatusText',\n",
    "                                       'DNSLookupTime', \n",
    "                                       'Destination', \n",
    "                                       'HTTPStatus', \n",
    "                                       'InitialConnection', \n",
    "                                       'NumberOfRequests', \n",
    "                                       'PageLoadTime', \n",
    "                                       'SSLNegotiationTime', \n",
    "                                       'TTFB', \n",
    "                                       'TotalDownloadedBytes'\n",
    "                                      ])\n",
    "\n",
    "for index, row in df_tests_url.iterrows():\n",
    "    \n",
    "    testID = row['testID']\n",
    "    res =  retrievePageLoadTestResults(testID)\n",
    "\n",
    "    if (res is None or len(res) < 1):\n",
    "        continue\n",
    "    \n",
    "    probeInfo = res[0]['ProbeInfo']\n",
    "    testDateTime = res[0]['TestDateTime']\n",
    "\n",
    "    #extract the epoch\n",
    "    m = re.search('/Date\\((\\d+)\\+0000\\)/', testDateTime)\n",
    "    if m:\n",
    "        testDateTime = m.group(1)[:-3]\n",
    "\n",
    "    #convert into human readable format\n",
    "    testDateTime = datetime.fromtimestamp(int(testDateTime)).strftime('%Y-%m-%d')\n",
    "    statusCode = res[0]['TestStatus']['StatusCode']\n",
    "    statusText = res[0]['TestStatus']['StatusText']\n",
    "    dnsLookupTime = res[0]['DNSLookupTime']\n",
    "    destination =  res[0]['Destination']\n",
    "    hTTPStatus = res[0]['HTTPStatus']\n",
    "    initialConnection = res[0]['InitialConnection']\n",
    "    numberOfRequests =  res[0]['NumberOfRequests'] \n",
    "    pageLoadTime =  res[0]['PageLoadTime'] \n",
    "    sslNegotiationTime = res[0]['SSLNegotiationTime'] \n",
    "    ttfb = res[0]['TTFB']\n",
    "    totalDownloadedBytes = res[0]['TotalDownloadedBytes']\n",
    "\n",
    "    df_results = df_results.append({'ProbeInfo':probeInfo,\n",
    "        'TestDateTime': testDateTime,\n",
    "        'StatusCode':statusCode,\n",
    "        'StatusText':statusText,\n",
    "        'DNSLookupTime':dnsLookupTime,\n",
    "        'Destination':destination,\n",
    "        'HTTPStatus':hTTPStatus,\n",
    "        'InitialConnection':initialConnection,\n",
    "        'NumberOfRequests':numberOfRequests,\n",
    "        'PageLoadTime':pageLoadTime,\n",
    "        'SSLNegotiationTime':sslNegotiationTime,\n",
    "        'TTFB':ttfb,\n",
    "        'TotalDownloadedBytes':totalDownloadedBytes\n",
    "    }, ignore_index=True)\n",
    "\n",
    "df_results"
   ]
  },
  {
   "cell_type": "code",
   "execution_count": null,
   "metadata": {},
   "outputs": [],
   "source": [
    "df_results.to_csv('data/url_results_3.csv', sep='|', encoding='utf-8', index=False)\n"
   ]
  },
  {
   "cell_type": "code",
   "execution_count": null,
   "metadata": {},
   "outputs": [],
   "source": [
    "df_results.loc[df_results.HTTPStatus=='200']"
   ]
  },
  {
   "cell_type": "code",
   "execution_count": null,
   "metadata": {},
   "outputs": [],
   "source": [
    "df_url_results1 = pd.read_csv('data/url_results_1.csv', sep='|', encoding='utf-8', keep_default_na=False)"
   ]
  },
  {
   "cell_type": "code",
   "execution_count": null,
   "metadata": {},
   "outputs": [],
   "source": [
    "df_url_links_sample1 = pd.read_csv('data/url_links_sample1.csv', sep='|', encoding='utf-8', keep_default_na=False)\n",
    "df_url_links_sample2 = pd.read_csv('data/url_links_sample2.csv', sep='|', encoding='utf-8', keep_default_na=False)"
   ]
  },
  {
   "cell_type": "code",
   "execution_count": null,
   "metadata": {},
   "outputs": [],
   "source": [
    "df_url_links_sample = pd.concat([df_url_links_sample1.iloc[:,[0,1,3]], df_url_links_sample2.iloc[:,[0,1,3]]], ignore_index=True)\n"
   ]
  },
  {
   "cell_type": "code",
   "execution_count": null,
   "metadata": {},
   "outputs": [],
   "source": [
    "df_url_links_sample = df_url_links_sample.drop_duplicates()"
   ]
  },
  {
   "cell_type": "code",
   "execution_count": null,
   "metadata": {},
   "outputs": [],
   "source": [
    "df_url_links_sample.groupby('domain')['url'].nunique()"
   ]
  },
  {
   "cell_type": "code",
   "execution_count": null,
   "metadata": {},
   "outputs": [],
   "source": [
    "df_domains = pd.read_csv('data/domain.csv', sep='|', encoding='latin1', keep_default_na=False)"
   ]
  },
  {
   "cell_type": "code",
   "execution_count": null,
   "metadata": {},
   "outputs": [],
   "source": [
    "df_links = pd.read_csv('data/links.csv', sep='|', encoding='latin1', keep_default_na=False)\n",
    "df_links"
   ]
  },
  {
   "cell_type": "code",
   "execution_count": null,
   "metadata": {},
   "outputs": [],
   "source": [
    "len(df_url_links_sample)"
   ]
  },
  {
   "cell_type": "code",
   "execution_count": null,
   "metadata": {},
   "outputs": [],
   "source": [
    "df_links.groupby('cc')['domain'].nunique()"
   ]
  },
  {
   "cell_type": "code",
   "execution_count": null,
   "metadata": {},
   "outputs": [],
   "source": [
    "df_links.loc[df_links.cc=='ZA'].domain.drop_duplicates()"
   ]
  },
  {
   "cell_type": "code",
   "execution_count": 99,
   "metadata": {},
   "outputs": [
    {
     "name": "stdout",
     "output_type": "stream",
     "text": [
      "https://kong.speedcheckerapi.com:8443/ProbeAPIv2/GetPageLoadResults?apikey=a374d018-7235-4fd8-84f2-e97b80233544&testID=c00f946a-7814-473e-ae21-2ed48d0cd166\n",
      "{'ResponseStatus': {'StatusCode': '200', 'StatusText': 'Test finished, you can retreive results now'}, 'PageLoadTestResults': [{'ProbeInfo': {'ASN': 6830, 'CityName': 'Duisburg', 'ConnectionType': 'WIFI', 'CountryCode': 'DE', 'DNSResolver': '80.69.97.151', 'GeolocationAccuracy': 1000, 'IPAddress': '37.201.214.144', 'Latitude': 6.89, 'Longitude': 6.89, 'Network': 'UNITYMEDIA-POOL-NET', 'NetworkID': 57320, 'Platform': 'ANDROID', 'ProbeID': 'f4a215b4-9cfc-42ff-877c-459eefdecf9a', 'Version': '3.8.0.0'}, 'TestDateTime': '/Date(1532182918168+0000)/', 'TestStatus': {'StatusCode': '200', 'StatusText': 'OK'}, 'DNSLookupTime': 0, 'Destination': 'https://www.google.com/amp/s/slpublicopinion.wordpress.com/2017/04/10/denying-pregnant-girls-mainstream-education-in-sierra-leone-is-a-violation-of-their-human-rights-expert-says/amp/', 'HTTPStatus': '200', 'InitialConnection': 0, 'NumberOfRequests': 0, 'PageLoadTime': 886, 'SSLNegotiationTime': 0, 'TTFB': 750, 'TotalDownloadedBytes': 1015}, {'ProbeInfo': {'ASN': 3320, 'CityName': 'Dusseldorf', 'ConnectionType': 'Wireless80211', 'CountryCode': 'DE', 'DNSResolver': '217.237.148.89', 'GeolocationAccuracy': 1000, 'IPAddress': '80.128.228.47', 'Latitude': 51.42, 'Longitude': 6.77, 'Network': 'DTAG-DIAL16', 'NetworkID': 57545, 'Platform': 'PC', 'ProbeID': '627e80e0-c2d7-4e6e-83a9-9825c6a6fa59', 'Version': '1.0.44.0'}, 'TestDateTime': '/Date(1532182996718+0000)/', 'TestStatus': {'StatusCode': '200', 'StatusText': 'OK'}, 'DNSLookupTime': 0, 'Destination': 'https://www.google.com/amp/s/slpublicopinion.wordpress.com/2017/04/10/denying-pregnant-girls-mainstream-education-in-sierra-leone-is-a-violation-of-their-human-rights-expert-says/amp/', 'HTTPStatus': '200', 'InitialConnection': 0, 'NumberOfRequests': 1, 'PageLoadTime': 3117, 'SSLNegotiationTime': 0, 'TTFB': 3079, 'TotalDownloadedBytes': 1015}, {'ProbeInfo': {'ASN': 5607, 'CityName': 'Swansea', 'ConnectionType': 'WIFI', 'CountryCode': 'GB', 'DNSResolver': '90.207.224.11', 'GeolocationAccuracy': 10000, 'IPAddress': '94.194.75.60', 'Latitude': 51.63, 'Longitude': -3.97, 'Network': 'BSKYB-BROADBAND', 'NetworkID': 57207, 'Platform': 'ANDROID', 'ProbeID': '726551d6-e731-4a93-8c0a-ab296b495cb1', 'Version': '3.4.1.0'}, 'TestDateTime': '/Date(1532182917631+0000)/', 'TestStatus': {'StatusCode': '200', 'StatusText': 'OK'}, 'DNSLookupTime': 0, 'Destination': 'https://www.google.com/amp/s/slpublicopinion.wordpress.com/2017/04/10/denying-pregnant-girls-mainstream-education-in-sierra-leone-is-a-violation-of-their-human-rights-expert-says/amp/', 'HTTPStatus': '200', 'InitialConnection': 0, 'NumberOfRequests': 0, 'PageLoadTime': 413, 'SSLNegotiationTime': 0, 'TTFB': 373, 'TotalDownloadedBytes': 1015}, {'ProbeInfo': {'ASN': 5607, 'CityName': 'Crediton', 'ConnectionType': 'WIFI', 'CountryCode': 'GB', 'DNSResolver': '90.207.224.81', 'GeolocationAccuracy': 1000, 'IPAddress': '188.221.197.34', 'Latitude': -3.64, 'Longitude': -3.64, 'Network': 'BSKYB-BROADBAND', 'NetworkID': 57207, 'Platform': 'ANDROID', 'ProbeID': 'd8abd743-dfa2-45fd-a52a-c45f4027a8e1', 'Version': '3.8.0.0'}, 'TestDateTime': '/Date(1532182994677+0000)/', 'TestStatus': {'StatusCode': '200', 'StatusText': 'OK'}, 'DNSLookupTime': 0, 'Destination': 'https://www.google.com/amp/s/slpublicopinion.wordpress.com/2017/04/10/denying-pregnant-girls-mainstream-education-in-sierra-leone-is-a-violation-of-their-human-rights-expert-says/amp/', 'HTTPStatus': '200', 'InitialConnection': 0, 'NumberOfRequests': 0, 'PageLoadTime': 900, 'SSLNegotiationTime': 0, 'TTFB': 547, 'TotalDownloadedBytes': 1015}, {'ProbeInfo': {'ASN': 6830, 'CityName': 'Amsterdam', 'ConnectionType': 'Ethernet', 'CountryCode': 'NL', 'DNSResolver': '212.142.48.82', 'GeolocationAccuracy': 5000, 'IPAddress': '213.127.161.49', 'Latitude': 52.36, 'Longitude': 4.88, 'Network': 'UPC-LGI-INTERNAL-WAN-2', 'NetworkID': 73141, 'Platform': 'PC', 'ProbeID': 'c1557034-6823-4e16-9d9d-1a6a68af60b4', 'Version': '1.0.45.0'}, 'TestDateTime': '/Date(1532183123878+0000)/', 'TestStatus': {'StatusCode': '200', 'StatusText': 'OK'}, 'DNSLookupTime': 0, 'Destination': 'https://www.google.com/amp/s/slpublicopinion.wordpress.com/2017/04/10/denying-pregnant-girls-mainstream-education-in-sierra-leone-is-a-violation-of-their-human-rights-expert-says/amp/', 'HTTPStatus': '200', 'InitialConnection': 0, 'NumberOfRequests': 1, 'PageLoadTime': 2341, 'SSLNegotiationTime': 0, 'TTFB': 2322, 'TotalDownloadedBytes': 1015}, {'ProbeInfo': {'ASN': 9143, 'CityName': 'Utrecht', 'ConnectionType': 'Ethernet', 'CountryCode': 'NL', 'DNSResolver': '212.54.39.76', 'GeolocationAccuracy': 1000, 'IPAddress': '83.83.101.64', 'Latitude': 52.13, 'Longitude': 5.21, 'Network': 'ZIGGO-CM', 'NetworkID': 57353, 'Platform': 'PC', 'ProbeID': '3071360e-9557-416e-a8b6-1d047aeee28c', 'Version': '1.0.44.0'}, 'TestDateTime': '/Date(1532183155153+0000)/', 'TestStatus': {'StatusCode': '200', 'StatusText': 'OK'}, 'DNSLookupTime': 0, 'Destination': 'https://www.google.com/amp/s/slpublicopinion.wordpress.com/2017/04/10/denying-pregnant-girls-mainstream-education-in-sierra-leone-is-a-violation-of-their-human-rights-expert-says/amp/', 'HTTPStatus': '200', 'InitialConnection': 0, 'NumberOfRequests': 1, 'PageLoadTime': 2213, 'SSLNegotiationTime': 0, 'TTFB': 2182, 'TotalDownloadedBytes': 1015}, {'ProbeInfo': {'ASN': 3215, 'CityName': 'Dreux', 'ConnectionType': 'Wireless80211', 'CountryCode': 'FR', 'DNSResolver': '', 'GeolocationAccuracy': 10000, 'IPAddress': '86.196.198.71', 'Latitude': 48.73, 'Longitude': 1.37, 'Network': 'IP2000-ADSL-BAS', 'NetworkID': 57203, 'Platform': 'PC', 'ProbeID': '564fc3b6-80fa-4841-b454-7adf36581892', 'Version': '1.0.44.0'}, 'TestDateTime': '/Date(1532182919460+0000)/', 'TestStatus': {'StatusCode': '200', 'StatusText': 'OK'}, 'DNSLookupTime': 0, 'Destination': 'https://www.google.com/amp/s/slpublicopinion.wordpress.com/2017/04/10/denying-pregnant-girls-mainstream-education-in-sierra-leone-is-a-violation-of-their-human-rights-expert-says/amp/', 'HTTPStatus': '200', 'InitialConnection': 0, 'NumberOfRequests': 1, 'PageLoadTime': 1602, 'SSLNegotiationTime': 0, 'TTFB': 1579, 'TotalDownloadedBytes': 1015}, {'ProbeInfo': {'ASN': 3215, 'CityName': 'Saint-Loup', 'ConnectionType': 'WIFI', 'CountryCode': 'FR', 'DNSResolver': '80.10.203.42', 'GeolocationAccuracy': 10000, 'IPAddress': '82.122.122.72', 'Latitude': 45.89, 'Longitude': 4.49, 'Network': 'IP2000-ADSL-BAS', 'NetworkID': 57203, 'Platform': 'ANDROID', 'ProbeID': '422fd5f4-3451-42f8-920e-18b364d71153', 'Version': '3.8.0.0'}, 'TestDateTime': '/Date(1532182995106+0000)/', 'TestStatus': {'StatusCode': '200', 'StatusText': 'OK'}, 'DNSLookupTime': 0, 'Destination': 'https://www.google.com/amp/s/slpublicopinion.wordpress.com/2017/04/10/denying-pregnant-girls-mainstream-education-in-sierra-leone-is-a-violation-of-their-human-rights-expert-says/amp/', 'HTTPStatus': '200', 'InitialConnection': 0, 'NumberOfRequests': 0, 'PageLoadTime': 802, 'SSLNegotiationTime': 0, 'TTFB': 693, 'TotalDownloadedBytes': 1015}, {'ProbeInfo': {'ASN': 7922, 'CityName': 'Monticello', 'ConnectionType': 'Ethernet', 'CountryCode': 'US', 'DNSResolver': '96.114.123.11', 'GeolocationAccuracy': 1000, 'IPAddress': '71.194.70.11', 'Latitude': 40.77, 'Longitude': -87.15, 'Network': 'NET71', 'NetworkID': 68165, 'Platform': 'PC', 'ProbeID': '26449ec6-c47e-42d2-8182-71330387cc8e', 'Version': '1.0.44.0'}, 'TestDateTime': '/Date(1532182919953+0000)/', 'TestStatus': {'StatusCode': '200', 'StatusText': 'OK'}, 'DNSLookupTime': 0, 'Destination': 'https://www.google.com/amp/s/slpublicopinion.wordpress.com/2017/04/10/denying-pregnant-girls-mainstream-education-in-sierra-leone-is-a-violation-of-their-human-rights-expert-says/amp/', 'HTTPStatus': '200', 'InitialConnection': 0, 'NumberOfRequests': 1, 'PageLoadTime': 1413, 'SSLNegotiationTime': 0, 'TTFB': 1374, 'TotalDownloadedBytes': 1015}, {'ProbeInfo': {'ASN': 6181, 'ConnectionType': 'Wireless80211', 'CountryCode': 'US', 'DNSResolver': '216.68.5.20', 'GeolocationAccuracy': 20000, 'IPAddress': '50.5.159.7', 'Latitude': 39, 'Longitude': -84.66, 'Network': 'NET50', 'NetworkID': 68358, 'Platform': 'PC', 'ProbeID': 'b85fa9db-9387-4235-99fe-eea3e6b84724', 'Version': '1.0.44.0'}, 'TestDateTime': '/Date(1532183071605+0000)/', 'TestStatus': {'StatusCode': '200', 'StatusText': 'OK'}, 'DNSLookupTime': 0, 'Destination': 'https://www.google.com/amp/s/slpublicopinion.wordpress.com/2017/04/10/denying-pregnant-girls-mainstream-education-in-sierra-leone-is-a-violation-of-their-human-rights-expert-says/amp/', 'HTTPStatus': '0', 'InitialConnection': 0, 'NumberOfRequests': 1, 'PageLoadTime': 2, 'SSLNegotiationTime': 0, 'TTFB': 0, 'TotalDownloadedBytes': 329}]}\n",
      "[{'ProbeInfo': {'ASN': 6830, 'CityName': 'Duisburg', 'ConnectionType': 'WIFI', 'CountryCode': 'DE', 'DNSResolver': '80.69.97.151', 'GeolocationAccuracy': 1000, 'IPAddress': '37.201.214.144', 'Latitude': 6.89, 'Longitude': 6.89, 'Network': 'UNITYMEDIA-POOL-NET', 'NetworkID': 57320, 'Platform': 'ANDROID', 'ProbeID': 'f4a215b4-9cfc-42ff-877c-459eefdecf9a', 'Version': '3.8.0.0'}, 'TestDateTime': '/Date(1532182918168+0000)/', 'TestStatus': {'StatusCode': '200', 'StatusText': 'OK'}, 'DNSLookupTime': 0, 'Destination': 'https://www.google.com/amp/s/slpublicopinion.wordpress.com/2017/04/10/denying-pregnant-girls-mainstream-education-in-sierra-leone-is-a-violation-of-their-human-rights-expert-says/amp/', 'HTTPStatus': '200', 'InitialConnection': 0, 'NumberOfRequests': 0, 'PageLoadTime': 886, 'SSLNegotiationTime': 0, 'TTFB': 750, 'TotalDownloadedBytes': 1015}, {'ProbeInfo': {'ASN': 3320, 'CityName': 'Dusseldorf', 'ConnectionType': 'Wireless80211', 'CountryCode': 'DE', 'DNSResolver': '217.237.148.89', 'GeolocationAccuracy': 1000, 'IPAddress': '80.128.228.47', 'Latitude': 51.42, 'Longitude': 6.77, 'Network': 'DTAG-DIAL16', 'NetworkID': 57545, 'Platform': 'PC', 'ProbeID': '627e80e0-c2d7-4e6e-83a9-9825c6a6fa59', 'Version': '1.0.44.0'}, 'TestDateTime': '/Date(1532182996718+0000)/', 'TestStatus': {'StatusCode': '200', 'StatusText': 'OK'}, 'DNSLookupTime': 0, 'Destination': 'https://www.google.com/amp/s/slpublicopinion.wordpress.com/2017/04/10/denying-pregnant-girls-mainstream-education-in-sierra-leone-is-a-violation-of-their-human-rights-expert-says/amp/', 'HTTPStatus': '200', 'InitialConnection': 0, 'NumberOfRequests': 1, 'PageLoadTime': 3117, 'SSLNegotiationTime': 0, 'TTFB': 3079, 'TotalDownloadedBytes': 1015}, {'ProbeInfo': {'ASN': 5607, 'CityName': 'Swansea', 'ConnectionType': 'WIFI', 'CountryCode': 'GB', 'DNSResolver': '90.207.224.11', 'GeolocationAccuracy': 10000, 'IPAddress': '94.194.75.60', 'Latitude': 51.63, 'Longitude': -3.97, 'Network': 'BSKYB-BROADBAND', 'NetworkID': 57207, 'Platform': 'ANDROID', 'ProbeID': '726551d6-e731-4a93-8c0a-ab296b495cb1', 'Version': '3.4.1.0'}, 'TestDateTime': '/Date(1532182917631+0000)/', 'TestStatus': {'StatusCode': '200', 'StatusText': 'OK'}, 'DNSLookupTime': 0, 'Destination': 'https://www.google.com/amp/s/slpublicopinion.wordpress.com/2017/04/10/denying-pregnant-girls-mainstream-education-in-sierra-leone-is-a-violation-of-their-human-rights-expert-says/amp/', 'HTTPStatus': '200', 'InitialConnection': 0, 'NumberOfRequests': 0, 'PageLoadTime': 413, 'SSLNegotiationTime': 0, 'TTFB': 373, 'TotalDownloadedBytes': 1015}, {'ProbeInfo': {'ASN': 5607, 'CityName': 'Crediton', 'ConnectionType': 'WIFI', 'CountryCode': 'GB', 'DNSResolver': '90.207.224.81', 'GeolocationAccuracy': 1000, 'IPAddress': '188.221.197.34', 'Latitude': -3.64, 'Longitude': -3.64, 'Network': 'BSKYB-BROADBAND', 'NetworkID': 57207, 'Platform': 'ANDROID', 'ProbeID': 'd8abd743-dfa2-45fd-a52a-c45f4027a8e1', 'Version': '3.8.0.0'}, 'TestDateTime': '/Date(1532182994677+0000)/', 'TestStatus': {'StatusCode': '200', 'StatusText': 'OK'}, 'DNSLookupTime': 0, 'Destination': 'https://www.google.com/amp/s/slpublicopinion.wordpress.com/2017/04/10/denying-pregnant-girls-mainstream-education-in-sierra-leone-is-a-violation-of-their-human-rights-expert-says/amp/', 'HTTPStatus': '200', 'InitialConnection': 0, 'NumberOfRequests': 0, 'PageLoadTime': 900, 'SSLNegotiationTime': 0, 'TTFB': 547, 'TotalDownloadedBytes': 1015}, {'ProbeInfo': {'ASN': 6830, 'CityName': 'Amsterdam', 'ConnectionType': 'Ethernet', 'CountryCode': 'NL', 'DNSResolver': '212.142.48.82', 'GeolocationAccuracy': 5000, 'IPAddress': '213.127.161.49', 'Latitude': 52.36, 'Longitude': 4.88, 'Network': 'UPC-LGI-INTERNAL-WAN-2', 'NetworkID': 73141, 'Platform': 'PC', 'ProbeID': 'c1557034-6823-4e16-9d9d-1a6a68af60b4', 'Version': '1.0.45.0'}, 'TestDateTime': '/Date(1532183123878+0000)/', 'TestStatus': {'StatusCode': '200', 'StatusText': 'OK'}, 'DNSLookupTime': 0, 'Destination': 'https://www.google.com/amp/s/slpublicopinion.wordpress.com/2017/04/10/denying-pregnant-girls-mainstream-education-in-sierra-leone-is-a-violation-of-their-human-rights-expert-says/amp/', 'HTTPStatus': '200', 'InitialConnection': 0, 'NumberOfRequests': 1, 'PageLoadTime': 2341, 'SSLNegotiationTime': 0, 'TTFB': 2322, 'TotalDownloadedBytes': 1015}, {'ProbeInfo': {'ASN': 9143, 'CityName': 'Utrecht', 'ConnectionType': 'Ethernet', 'CountryCode': 'NL', 'DNSResolver': '212.54.39.76', 'GeolocationAccuracy': 1000, 'IPAddress': '83.83.101.64', 'Latitude': 52.13, 'Longitude': 5.21, 'Network': 'ZIGGO-CM', 'NetworkID': 57353, 'Platform': 'PC', 'ProbeID': '3071360e-9557-416e-a8b6-1d047aeee28c', 'Version': '1.0.44.0'}, 'TestDateTime': '/Date(1532183155153+0000)/', 'TestStatus': {'StatusCode': '200', 'StatusText': 'OK'}, 'DNSLookupTime': 0, 'Destination': 'https://www.google.com/amp/s/slpublicopinion.wordpress.com/2017/04/10/denying-pregnant-girls-mainstream-education-in-sierra-leone-is-a-violation-of-their-human-rights-expert-says/amp/', 'HTTPStatus': '200', 'InitialConnection': 0, 'NumberOfRequests': 1, 'PageLoadTime': 2213, 'SSLNegotiationTime': 0, 'TTFB': 2182, 'TotalDownloadedBytes': 1015}, {'ProbeInfo': {'ASN': 3215, 'CityName': 'Dreux', 'ConnectionType': 'Wireless80211', 'CountryCode': 'FR', 'DNSResolver': '', 'GeolocationAccuracy': 10000, 'IPAddress': '86.196.198.71', 'Latitude': 48.73, 'Longitude': 1.37, 'Network': 'IP2000-ADSL-BAS', 'NetworkID': 57203, 'Platform': 'PC', 'ProbeID': '564fc3b6-80fa-4841-b454-7adf36581892', 'Version': '1.0.44.0'}, 'TestDateTime': '/Date(1532182919460+0000)/', 'TestStatus': {'StatusCode': '200', 'StatusText': 'OK'}, 'DNSLookupTime': 0, 'Destination': 'https://www.google.com/amp/s/slpublicopinion.wordpress.com/2017/04/10/denying-pregnant-girls-mainstream-education-in-sierra-leone-is-a-violation-of-their-human-rights-expert-says/amp/', 'HTTPStatus': '200', 'InitialConnection': 0, 'NumberOfRequests': 1, 'PageLoadTime': 1602, 'SSLNegotiationTime': 0, 'TTFB': 1579, 'TotalDownloadedBytes': 1015}, {'ProbeInfo': {'ASN': 3215, 'CityName': 'Saint-Loup', 'ConnectionType': 'WIFI', 'CountryCode': 'FR', 'DNSResolver': '80.10.203.42', 'GeolocationAccuracy': 10000, 'IPAddress': '82.122.122.72', 'Latitude': 45.89, 'Longitude': 4.49, 'Network': 'IP2000-ADSL-BAS', 'NetworkID': 57203, 'Platform': 'ANDROID', 'ProbeID': '422fd5f4-3451-42f8-920e-18b364d71153', 'Version': '3.8.0.0'}, 'TestDateTime': '/Date(1532182995106+0000)/', 'TestStatus': {'StatusCode': '200', 'StatusText': 'OK'}, 'DNSLookupTime': 0, 'Destination': 'https://www.google.com/amp/s/slpublicopinion.wordpress.com/2017/04/10/denying-pregnant-girls-mainstream-education-in-sierra-leone-is-a-violation-of-their-human-rights-expert-says/amp/', 'HTTPStatus': '200', 'InitialConnection': 0, 'NumberOfRequests': 0, 'PageLoadTime': 802, 'SSLNegotiationTime': 0, 'TTFB': 693, 'TotalDownloadedBytes': 1015}, {'ProbeInfo': {'ASN': 7922, 'CityName': 'Monticello', 'ConnectionType': 'Ethernet', 'CountryCode': 'US', 'DNSResolver': '96.114.123.11', 'GeolocationAccuracy': 1000, 'IPAddress': '71.194.70.11', 'Latitude': 40.77, 'Longitude': -87.15, 'Network': 'NET71', 'NetworkID': 68165, 'Platform': 'PC', 'ProbeID': '26449ec6-c47e-42d2-8182-71330387cc8e', 'Version': '1.0.44.0'}, 'TestDateTime': '/Date(1532182919953+0000)/', 'TestStatus': {'StatusCode': '200', 'StatusText': 'OK'}, 'DNSLookupTime': 0, 'Destination': 'https://www.google.com/amp/s/slpublicopinion.wordpress.com/2017/04/10/denying-pregnant-girls-mainstream-education-in-sierra-leone-is-a-violation-of-their-human-rights-expert-says/amp/', 'HTTPStatus': '200', 'InitialConnection': 0, 'NumberOfRequests': 1, 'PageLoadTime': 1413, 'SSLNegotiationTime': 0, 'TTFB': 1374, 'TotalDownloadedBytes': 1015}, {'ProbeInfo': {'ASN': 6181, 'ConnectionType': 'Wireless80211', 'CountryCode': 'US', 'DNSResolver': '216.68.5.20', 'GeolocationAccuracy': 20000, 'IPAddress': '50.5.159.7', 'Latitude': 39, 'Longitude': -84.66, 'Network': 'NET50', 'NetworkID': 68358, 'Platform': 'PC', 'ProbeID': 'b85fa9db-9387-4235-99fe-eea3e6b84724', 'Version': '1.0.44.0'}, 'TestDateTime': '/Date(1532183071605+0000)/', 'TestStatus': {'StatusCode': '200', 'StatusText': 'OK'}, 'DNSLookupTime': 0, 'Destination': 'https://www.google.com/amp/s/slpublicopinion.wordpress.com/2017/04/10/denying-pregnant-girls-mainstream-education-in-sierra-leone-is-a-violation-of-their-human-rights-expert-says/amp/', 'HTTPStatus': '0', 'InitialConnection': 0, 'NumberOfRequests': 1, 'PageLoadTime': 2, 'SSLNegotiationTime': 0, 'TTFB': 0, 'TotalDownloadedBytes': 329}]\n"
     ]
    }
   ],
   "source": [
    "print(retrievePageLoadTestResults('c00f946a-7814-473e-ae21-2ed48d0cd166'))"
   ]
  },
  {
   "cell_type": "code",
   "execution_count": null,
   "metadata": {},
   "outputs": [],
   "source": [
    "df_url_results1 = pd.read_csv('data/url_results_1.csv', sep='|', encoding='utf-8', keep_default_na=False)\n",
    "df_url_results2 = pd.read_csv('data/url_results_2.csv', sep='|', encoding='utf-8', keep_default_na=False)\n",
    "df_url_results3 = pd.read_csv('data/url_results_3.csv', sep='|', encoding='utf-8', keep_default_na=False)\n",
    "\n",
    "df_url_results = pd.concat([df_url_results1, df_url_results2, df_url_results3], ignore_index=True)\n",
    "df_url_results = df_url_results.loc[df_url_results.StatusCode==200]"
   ]
  },
  {
   "cell_type": "code",
   "execution_count": null,
   "metadata": {},
   "outputs": [],
   "source": [
    "df_url_results.to_csv('data/url_results.csv', sep='|', encoding='utf-8', index=False)"
   ]
  },
  {
   "cell_type": "code",
   "execution_count": null,
   "metadata": {},
   "outputs": [],
   "source": [
    "df_url_links_sample"
   ]
  },
  {
   "cell_type": "code",
   "execution_count": null,
   "metadata": {},
   "outputs": [],
   "source": [
    "df_ori_amp_results = pd.read_csv('data/ori_amp_url_results.csv', sep='|', encoding='utf-8', keep_default_na=False)\n",
    "df_amp_viewer_results = pd.read_csv('data/amp_viewer_url_results.csv', sep='|', encoding='utf-8', keep_default_na=False)"
   ]
  },
  {
   "cell_type": "code",
   "execution_count": null,
   "metadata": {},
   "outputs": [],
   "source": [
    "len(df_amp_viewer_results['domain'].drop_duplicates())"
   ]
  },
  {
   "cell_type": "code",
   "execution_count": null,
   "metadata": {},
   "outputs": [],
   "source": [
    "df_amp_viewer_results = pd.read_csv('data/amp_viewer_url_results.csv', sep='|', encoding='utf-8', keep_default_na=False)\n",
    "# df_amp_viewer_results = df_amp_viewer_results.loc[df_amp_viewer_results['StatusText'] == 'OK']\n",
    "# df_amp_viewer_results\n",
    "df_amp_viewer_results = df_amp_viewer_results[(df_amp_viewer_results.HTTPStatus == 200) & (df_amp_viewer_results['StatusText'] == 'OK')]\n",
    "df_amp_viewer_results = df_amp_viewer_results[(df_amp_viewer_results.InitialConnection > 0) & (df_amp_viewer_results.SSLNegotiationTime > 0) & (df_amp_viewer_results.DNSLookupTime > 0)]\n",
    "df_amp_viewer_results"
   ]
  },
  {
   "cell_type": "code",
   "execution_count": null,
   "metadata": {},
   "outputs": [],
   "source": [
    "df_amp_viewer_results[df_amp_viewer_results.StatusCode==200]"
   ]
  },
  {
   "cell_type": "code",
   "execution_count": null,
   "metadata": {},
   "outputs": [],
   "source": [
    "df_amp_cdn_results = pd.read_csv('data/amp_cdn_url_results.csv', sep='|', encoding='utf-8', keep_default_na=False)\n",
    "df_amp_cdn_results = df_amp_cdn_results[(df_amp_cdn_results.HTTPStatus=='200') & \n",
    "                                        (df_amp_cdn_results.StatusText=='OK') & \n",
    "                                        (df_amp_cdn_results.InitialConnection > 0)]\n",
    "df_amp_cdn_results"
   ]
  },
  {
   "cell_type": "code",
   "execution_count": 61,
   "metadata": {},
   "outputs": [],
   "source": [
    "df_url_results = pd.read_csv('data/url_results.csv', sep='|', encoding='utf-8', keep_default_na=False)\n",
    "df_url_results = df_url_results[(df_url_results.HTTPStatus==200) & (df_url_results.StatusText=='OK')]"
   ]
  },
  {
   "cell_type": "code",
   "execution_count": 19,
   "metadata": {},
   "outputs": [],
   "source": [
    "df_ori_amp_results = pd.read_csv('data/ori_amp_url_results.csv', sep='|', encoding='utf-8', \n",
    "                                 keep_default_na=False, \n",
    "                                 converters={'InitialConnection':int, 'TotalDownloadedBytes':int})\n",
    "df_ori_amp_results = df_ori_amp_results[(df_ori_amp_results.HTTPStatus == '200') & \n",
    "                                        (df_ori_amp_results.StatusText == 'OK') &\n",
    "                                        (df_ori_amp_results['InitialConnection'] > 0) &\n",
    "                                        (df_ori_amp_results['DNSLookupTime'] > 0)]"
   ]
  },
  {
   "cell_type": "code",
   "execution_count": 21,
   "metadata": {},
   "outputs": [
    {
     "ename": "ValueError",
     "evalue": "invalid literal for int() with base 10: ''",
     "output_type": "error",
     "traceback": [
      "\u001b[0;31m---------------------------------------------------------------------------\u001b[0m",
      "\u001b[0;31mValueError\u001b[0m                                Traceback (most recent call last)",
      "\u001b[0;32m<ipython-input-21-fdae745d5e5b>\u001b[0m in \u001b[0;36m<module>\u001b[0;34m()\u001b[0m\n\u001b[1;32m      1\u001b[0m df_amp_viewer_results = pd.read_csv('data/amp_viewer_url_results-1707201.csv', sep=';', encoding='utf-8', \n\u001b[1;32m      2\u001b[0m                                     \u001b[0mkeep_default_na\u001b[0m\u001b[0;34m=\u001b[0m\u001b[0;32mFalse\u001b[0m\u001b[0;34m,\u001b[0m\u001b[0;34m\u001b[0m\u001b[0m\n\u001b[0;32m----> 3\u001b[0;31m                                     converters={'InitialConnection':int, 'TotalDownloadedBytes':int})                                  \n\u001b[0m\u001b[1;32m      4\u001b[0m \u001b[0;31m# df_amp_viewer_results = df_amp_viewer_results[(df_amp_viewer_results.HTTPStatus == 200) &\u001b[0m\u001b[0;34m\u001b[0m\u001b[0;34m\u001b[0m\u001b[0m\n\u001b[1;32m      5\u001b[0m \u001b[0;31m#                                               (df_amp_viewer_results.StatusText == 'OK') &\u001b[0m\u001b[0;34m\u001b[0m\u001b[0;34m\u001b[0m\u001b[0m\n",
      "\u001b[0;32m~/anaconda/envs/py36/lib/python3.6/site-packages/pandas/io/parsers.py\u001b[0m in \u001b[0;36mparser_f\u001b[0;34m(filepath_or_buffer, sep, delimiter, header, names, index_col, usecols, squeeze, prefix, mangle_dupe_cols, dtype, engine, converters, true_values, false_values, skipinitialspace, skiprows, nrows, na_values, keep_default_na, na_filter, verbose, skip_blank_lines, parse_dates, infer_datetime_format, keep_date_col, date_parser, dayfirst, iterator, chunksize, compression, thousands, decimal, lineterminator, quotechar, quoting, escapechar, comment, encoding, dialect, tupleize_cols, error_bad_lines, warn_bad_lines, skipfooter, doublequote, delim_whitespace, low_memory, memory_map, float_precision)\u001b[0m\n\u001b[1;32m    676\u001b[0m                     skip_blank_lines=skip_blank_lines)\n\u001b[1;32m    677\u001b[0m \u001b[0;34m\u001b[0m\u001b[0m\n\u001b[0;32m--> 678\u001b[0;31m         \u001b[0;32mreturn\u001b[0m \u001b[0m_read\u001b[0m\u001b[0;34m(\u001b[0m\u001b[0mfilepath_or_buffer\u001b[0m\u001b[0;34m,\u001b[0m \u001b[0mkwds\u001b[0m\u001b[0;34m)\u001b[0m\u001b[0;34m\u001b[0m\u001b[0m\n\u001b[0m\u001b[1;32m    679\u001b[0m \u001b[0;34m\u001b[0m\u001b[0m\n\u001b[1;32m    680\u001b[0m     \u001b[0mparser_f\u001b[0m\u001b[0;34m.\u001b[0m\u001b[0m__name__\u001b[0m \u001b[0;34m=\u001b[0m \u001b[0mname\u001b[0m\u001b[0;34m\u001b[0m\u001b[0m\n",
      "\u001b[0;32m~/anaconda/envs/py36/lib/python3.6/site-packages/pandas/io/parsers.py\u001b[0m in \u001b[0;36m_read\u001b[0;34m(filepath_or_buffer, kwds)\u001b[0m\n\u001b[1;32m    444\u001b[0m \u001b[0;34m\u001b[0m\u001b[0m\n\u001b[1;32m    445\u001b[0m     \u001b[0;32mtry\u001b[0m\u001b[0;34m:\u001b[0m\u001b[0;34m\u001b[0m\u001b[0m\n\u001b[0;32m--> 446\u001b[0;31m         \u001b[0mdata\u001b[0m \u001b[0;34m=\u001b[0m \u001b[0mparser\u001b[0m\u001b[0;34m.\u001b[0m\u001b[0mread\u001b[0m\u001b[0;34m(\u001b[0m\u001b[0mnrows\u001b[0m\u001b[0;34m)\u001b[0m\u001b[0;34m\u001b[0m\u001b[0m\n\u001b[0m\u001b[1;32m    447\u001b[0m     \u001b[0;32mfinally\u001b[0m\u001b[0;34m:\u001b[0m\u001b[0;34m\u001b[0m\u001b[0m\n\u001b[1;32m    448\u001b[0m         \u001b[0mparser\u001b[0m\u001b[0;34m.\u001b[0m\u001b[0mclose\u001b[0m\u001b[0;34m(\u001b[0m\u001b[0;34m)\u001b[0m\u001b[0;34m\u001b[0m\u001b[0m\n",
      "\u001b[0;32m~/anaconda/envs/py36/lib/python3.6/site-packages/pandas/io/parsers.py\u001b[0m in \u001b[0;36mread\u001b[0;34m(self, nrows)\u001b[0m\n\u001b[1;32m   1034\u001b[0m                 \u001b[0;32mraise\u001b[0m \u001b[0mValueError\u001b[0m\u001b[0;34m(\u001b[0m\u001b[0;34m'skipfooter not supported for iteration'\u001b[0m\u001b[0;34m)\u001b[0m\u001b[0;34m\u001b[0m\u001b[0m\n\u001b[1;32m   1035\u001b[0m \u001b[0;34m\u001b[0m\u001b[0m\n\u001b[0;32m-> 1036\u001b[0;31m         \u001b[0mret\u001b[0m \u001b[0;34m=\u001b[0m \u001b[0mself\u001b[0m\u001b[0;34m.\u001b[0m\u001b[0m_engine\u001b[0m\u001b[0;34m.\u001b[0m\u001b[0mread\u001b[0m\u001b[0;34m(\u001b[0m\u001b[0mnrows\u001b[0m\u001b[0;34m)\u001b[0m\u001b[0;34m\u001b[0m\u001b[0m\n\u001b[0m\u001b[1;32m   1037\u001b[0m \u001b[0;34m\u001b[0m\u001b[0m\n\u001b[1;32m   1038\u001b[0m         \u001b[0;31m# May alter columns / col_dict\u001b[0m\u001b[0;34m\u001b[0m\u001b[0;34m\u001b[0m\u001b[0m\n",
      "\u001b[0;32m~/anaconda/envs/py36/lib/python3.6/site-packages/pandas/io/parsers.py\u001b[0m in \u001b[0;36mread\u001b[0;34m(self, nrows)\u001b[0m\n\u001b[1;32m   1846\u001b[0m     \u001b[0;32mdef\u001b[0m \u001b[0mread\u001b[0m\u001b[0;34m(\u001b[0m\u001b[0mself\u001b[0m\u001b[0;34m,\u001b[0m \u001b[0mnrows\u001b[0m\u001b[0;34m=\u001b[0m\u001b[0;32mNone\u001b[0m\u001b[0;34m)\u001b[0m\u001b[0;34m:\u001b[0m\u001b[0;34m\u001b[0m\u001b[0m\n\u001b[1;32m   1847\u001b[0m         \u001b[0;32mtry\u001b[0m\u001b[0;34m:\u001b[0m\u001b[0;34m\u001b[0m\u001b[0m\n\u001b[0;32m-> 1848\u001b[0;31m             \u001b[0mdata\u001b[0m \u001b[0;34m=\u001b[0m \u001b[0mself\u001b[0m\u001b[0;34m.\u001b[0m\u001b[0m_reader\u001b[0m\u001b[0;34m.\u001b[0m\u001b[0mread\u001b[0m\u001b[0;34m(\u001b[0m\u001b[0mnrows\u001b[0m\u001b[0;34m)\u001b[0m\u001b[0;34m\u001b[0m\u001b[0m\n\u001b[0m\u001b[1;32m   1849\u001b[0m         \u001b[0;32mexcept\u001b[0m \u001b[0mStopIteration\u001b[0m\u001b[0;34m:\u001b[0m\u001b[0;34m\u001b[0m\u001b[0m\n\u001b[1;32m   1850\u001b[0m             \u001b[0;32mif\u001b[0m \u001b[0mself\u001b[0m\u001b[0;34m.\u001b[0m\u001b[0m_first_chunk\u001b[0m\u001b[0;34m:\u001b[0m\u001b[0;34m\u001b[0m\u001b[0m\n",
      "\u001b[0;32mpandas/_libs/parsers.pyx\u001b[0m in \u001b[0;36mpandas._libs.parsers.TextReader.read\u001b[0;34m()\u001b[0m\n",
      "\u001b[0;32mpandas/_libs/parsers.pyx\u001b[0m in \u001b[0;36mpandas._libs.parsers.TextReader._read_low_memory\u001b[0;34m()\u001b[0m\n",
      "\u001b[0;32mpandas/_libs/parsers.pyx\u001b[0m in \u001b[0;36mpandas._libs.parsers.TextReader._read_rows\u001b[0;34m()\u001b[0m\n",
      "\u001b[0;32mpandas/_libs/parsers.pyx\u001b[0m in \u001b[0;36mpandas._libs.parsers.TextReader._convert_column_data\u001b[0;34m()\u001b[0m\n",
      "\u001b[0;32mpandas/_libs/parsers.pyx\u001b[0m in \u001b[0;36mpandas._libs.parsers._apply_converter\u001b[0;34m()\u001b[0m\n",
      "\u001b[0;31mValueError\u001b[0m: invalid literal for int() with base 10: ''"
     ]
    }
   ],
   "source": [
    "df_amp_viewer_results = pd.read_csv('data/amp_viewer_url_results-1707201.csv', sep=';', encoding='utf-8', \n",
    "                                    keep_default_na=False,\n",
    "                                    converters={'InitialConnection':int, 'TotalDownloadedBytes':int})                                  \n",
    "# df_amp_viewer_results = df_amp_viewer_results[(df_amp_viewer_results.HTTPStatus == 200) & \n",
    "#                                               (df_amp_viewer_results.StatusText == 'OK') &\n",
    "#                                               (df_amp_viewer_results['InitialConnection'] > 0) &\n",
    "#                                               (df_amp_viewer_results['DNSLookupTime'] > 0)]"
   ]
  },
  {
   "cell_type": "code",
   "execution_count": null,
   "metadata": {},
   "outputs": [],
   "source": [
    "df_amp_viewer_results.iloc[:,[14]].applymap(np.isreal)"
   ]
  },
  {
   "cell_type": "code",
   "execution_count": 88,
   "metadata": {},
   "outputs": [],
   "source": [
    "df_links_sample = pd.read_csv('data/links.csv', sep='|', encoding='utf-8', keep_default_na=False)"
   ]
  },
  {
   "cell_type": "code",
   "execution_count": 91,
   "metadata": {},
   "outputs": [
    {
     "data": {
      "text/plain": [
       "1477"
      ]
     },
     "execution_count": 91,
     "metadata": {},
     "output_type": "execute_result"
    }
   ],
   "source": [
    "len(df_links_sample.groupby('url'))"
   ]
  },
  {
   "cell_type": "code",
   "execution_count": 92,
   "metadata": {},
   "outputs": [],
   "source": [
    "df_ori_amp_results = pd.read_csv('data/ori_amp_url_results.csv', sep=';', encoding='utf-8', \n",
    "                                 keep_default_na=False)\n",
    "df_amp_viewer_results = pd.read_csv('data/amp_viewer_url_results-1707201.csv', sep=';', encoding='utf-8', \n",
    "                                     keep_default_na=False)\n",
    "df_url_results = pd.read_csv('data/url_results.csv', sep=';', encoding='utf-8',\n",
    "                             keep_default_na=False)"
   ]
  },
  {
   "cell_type": "code",
   "execution_count": null,
   "metadata": {},
   "outputs": [],
   "source": [
    "df_url_results.ProbeInfo"
   ]
  },
  {
   "cell_type": "code",
   "execution_count": 93,
   "metadata": {},
   "outputs": [],
   "source": [
    "import ast\n",
    "\n",
    "df_ori_amp_results['ASN'] = df_ori_amp_results.apply(lambda x: ast.literal_eval(x.ProbeInfo)['ASN'], axis = 1)\n",
    "df_amp_viewer_results['ASN'] = df_amp_viewer_results.apply(lambda x: ast.literal_eval(x.ProbeInfo)['ASN'], axis = 1)\n",
    "df_url_results['ASN'] = df_url_results.apply(lambda x:ast.literal_eval(x.ProbeInfo)['ASN'], axis = 1)"
   ]
  },
  {
   "cell_type": "code",
   "execution_count": 94,
   "metadata": {},
   "outputs": [],
   "source": [
    "df=pd.concat([df_ori_amp_results, df_amp_viewer_results, df_url_results])"
   ]
  },
  {
   "cell_type": "code",
   "execution_count": 98,
   "metadata": {},
   "outputs": [
    {
     "data": {
      "text/plain": [
       "89"
      ]
     },
     "execution_count": 98,
     "metadata": {},
     "output_type": "execute_result"
    }
   ],
   "source": [
    "len(df.groupby('domain'))"
   ]
  },
  {
   "cell_type": "code",
   "execution_count": 96,
   "metadata": {},
   "outputs": [
    {
     "data": {
      "text/plain": [
       "41"
      ]
     },
     "execution_count": 96,
     "metadata": {},
     "output_type": "execute_result"
    }
   ],
   "source": [
    "len(df_links_sample['cc'].drop_duplicates())"
   ]
  },
  {
   "cell_type": "code",
   "execution_count": 78,
   "metadata": {},
   "outputs": [],
   "source": [
    "df_domains = pd.read_csv('data/domain.csv',sep=',', encoding='latin1', keep_default_na=False)\n",
    "df_links = pd.read_csv('data/links.csv',sep='|', encoding='latin1', keep_default_na=False)"
   ]
  },
  {
   "cell_type": "code",
   "execution_count": 79,
   "metadata": {},
   "outputs": [
    {
     "data": {
      "text/plain": [
       "1431"
      ]
     },
     "execution_count": 79,
     "metadata": {},
     "output_type": "execute_result"
    }
   ],
   "source": [
    "len(df_domains)"
   ]
  },
  {
   "cell_type": "code",
   "execution_count": null,
   "metadata": {},
   "outputs": [],
   "source": [
    "\n"
   ]
  },
  {
   "cell_type": "code",
   "execution_count": null,
   "metadata": {},
   "outputs": [],
   "source": []
  }
 ],
 "metadata": {
  "kernelspec": {
   "display_name": "Python 3",
   "language": "python",
   "name": "python3"
  },
  "language_info": {
   "codemirror_mode": {
    "name": "ipython",
    "version": 3
   },
   "file_extension": ".py",
   "mimetype": "text/x-python",
   "name": "python",
   "nbconvert_exporter": "python",
   "pygments_lexer": "ipython3",
   "version": "3.6.5"
  }
 },
 "nbformat": 4,
 "nbformat_minor": 2
}
