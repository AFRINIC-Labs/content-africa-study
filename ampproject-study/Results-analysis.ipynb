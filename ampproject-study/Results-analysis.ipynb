{
 "cells": [
  {
   "cell_type": "code",
   "execution_count": null,
   "metadata": {},
   "outputs": [],
   "source": [
    "import requests\n",
    "import json, re, time\n",
    "from datetime import datetime\n",
    "import pandas as pd\n",
    "import numpy as np\n",
    "\n",
    "with open('api.key','r') as f:\n",
    "    APIKEY = f.read()\n",
    "\n",
    "HEADERS = {'apikey': APIKEY,\n",
    "            'accept': 'application/json',\n",
    "            'content-type': 'application/json',\n",
    "            'cookie': 'ASP.NET_SessionId=aiggen1ccck0gq141dgq1sip; ASP.NET_SessionId=aiggen1ccck0gq141dgq1sip'\n",
    "          }\n",
    "\n",
    "API_ENDPOINT = 'https://kong.speedcheckerapi.com:8443/ProbeAPIv2/'\n",
    "\n"
   ]
  },
  {
   "cell_type": "code",
   "execution_count": null,
   "metadata": {},
   "outputs": [],
   "source": [
    "def retrievePageLoadTestResults(testID):\n",
    "    \n",
    "    url = API_ENDPOINT + \"GetPageLoadResults?apikey=\" + APIKEY + \"&testID=\" + testID\n",
    "    print(url)\n",
    "    try:    \n",
    "        r = requests.get(url, headers=HEADERS)\n",
    "    except requests.exceptions.RequestException as e:  # This is the correct syntax\n",
    "        return []\n",
    "    \n",
    "    res = json.loads(r.text)\n",
    "    print(res)\n",
    "    return res['PageLoadTestResults']"
   ]
  },
  {
   "cell_type": "code",
   "execution_count": null,
   "metadata": {},
   "outputs": [],
   "source": [
    "df_tests_url = pd.read_csv('data/url_testID_3.csv', sep='|', encoding='utf-8', keep_default_na=False)\n",
    "df_tests_url = df_tests_url.loc[df_tests_url.testID!='FAILED']\n",
    "df_tests_url"
   ]
  },
  {
   "cell_type": "code",
   "execution_count": null,
   "metadata": {},
   "outputs": [],
   "source": [
    "df_results = pd.DataFrame(columns=['ProbeInfo',\n",
    "                                       'TestDateTime',\n",
    "                                       'StatusCode',\n",
    "                                       'StatusText',\n",
    "                                       'DNSLookupTime', \n",
    "                                       'Destination', \n",
    "                                       'HTTPStatus', \n",
    "                                       'InitialConnection', \n",
    "                                       'NumberOfRequests', \n",
    "                                       'PageLoadTime', \n",
    "                                       'SSLNegotiationTime', \n",
    "                                       'TTFB', \n",
    "                                       'TotalDownloadedBytes'\n",
    "                                      ])\n",
    "\n",
    "for index, row in df_tests_url.iterrows():\n",
    "    \n",
    "    testID = row['testID']\n",
    "    res =  retrievePageLoadTestResults(testID)\n",
    "\n",
    "    if (res is None or len(res) < 1):\n",
    "        continue\n",
    "    \n",
    "    probeInfo = res[0]['ProbeInfo']\n",
    "    testDateTime = res[0]['TestDateTime']\n",
    "\n",
    "    #extract the epoch\n",
    "    m = re.search('/Date\\((\\d+)\\+0000\\)/', testDateTime)\n",
    "    if m:\n",
    "        testDateTime = m.group(1)[:-3]\n",
    "\n",
    "    #convert into human readable format\n",
    "    testDateTime = datetime.fromtimestamp(int(testDateTime)).strftime('%Y-%m-%d')\n",
    "    statusCode = res[0]['TestStatus']['StatusCode']\n",
    "    statusText = res[0]['TestStatus']['StatusText']\n",
    "    dnsLookupTime = res[0]['DNSLookupTime']\n",
    "    destination =  res[0]['Destination']\n",
    "    hTTPStatus = res[0]['HTTPStatus']\n",
    "    initialConnection = res[0]['InitialConnection']\n",
    "    numberOfRequests =  res[0]['NumberOfRequests'] \n",
    "    pageLoadTime =  res[0]['PageLoadTime'] \n",
    "    sslNegotiationTime = res[0]['SSLNegotiationTime'] \n",
    "    ttfb = res[0]['TTFB']\n",
    "    totalDownloadedBytes = res[0]['TotalDownloadedBytes']\n",
    "\n",
    "    df_results = df_results.append({'ProbeInfo':probeInfo,\n",
    "        'TestDateTime': testDateTime,\n",
    "        'StatusCode':statusCode,\n",
    "        'StatusText':statusText,\n",
    "        'DNSLookupTime':dnsLookupTime,\n",
    "        'Destination':destination,\n",
    "        'HTTPStatus':hTTPStatus,\n",
    "        'InitialConnection':initialConnection,\n",
    "        'NumberOfRequests':numberOfRequests,\n",
    "        'PageLoadTime':pageLoadTime,\n",
    "        'SSLNegotiationTime':sslNegotiationTime,\n",
    "        'TTFB':ttfb,\n",
    "        'TotalDownloadedBytes':totalDownloadedBytes\n",
    "    }, ignore_index=True)\n",
    "\n",
    "df_results"
   ]
  },
  {
   "cell_type": "code",
   "execution_count": null,
   "metadata": {},
   "outputs": [],
   "source": [
    "df_results.to_csv('data/url_results_3.csv', sep='|', encoding='utf-8', index=False)\n"
   ]
  },
  {
   "cell_type": "code",
   "execution_count": null,
   "metadata": {},
   "outputs": [],
   "source": [
    "df_results.loc[df_results.HTTPStatus=='200']"
   ]
  },
  {
   "cell_type": "code",
   "execution_count": null,
   "metadata": {},
   "outputs": [],
   "source": [
    "df_url_results1 = pd.read_csv('data/url_results_1.csv', sep='|', encoding='utf-8', keep_default_na=False)"
   ]
  },
  {
   "cell_type": "code",
   "execution_count": null,
   "metadata": {},
   "outputs": [],
   "source": [
    "df_url_links_sample1 = pd.read_csv('data/url_links_sample1.csv', sep='|', encoding='utf-8', keep_default_na=False)\n",
    "df_url_links_sample2 = pd.read_csv('data/url_links_sample2.csv', sep='|', encoding='utf-8', keep_default_na=False)"
   ]
  },
  {
   "cell_type": "code",
   "execution_count": null,
   "metadata": {},
   "outputs": [],
   "source": [
    "df_url_links_sample = pd.concat([df_url_links_sample1.iloc[:,[0,1,3]], df_url_links_sample2.iloc[:,[0,1,3]]], ignore_index=True)\n"
   ]
  },
  {
   "cell_type": "code",
   "execution_count": null,
   "metadata": {},
   "outputs": [],
   "source": [
    "df_url_links_sample = df_url_links_sample.drop_duplicates()"
   ]
  },
  {
   "cell_type": "code",
   "execution_count": null,
   "metadata": {},
   "outputs": [],
   "source": [
    "df_url_links_sample.groupby('domain')['url'].nunique()"
   ]
  },
  {
   "cell_type": "code",
   "execution_count": null,
   "metadata": {},
   "outputs": [],
   "source": [
    "df_domains = pd.read_csv('data/domain.csv', sep='|', encoding='latin1', keep_default_na=False)"
   ]
  },
  {
   "cell_type": "code",
   "execution_count": null,
   "metadata": {},
   "outputs": [],
   "source": [
    "df_links = pd.read_csv('data/links.csv', sep='|', encoding='latin1', keep_default_na=False)\n",
    "df_links"
   ]
  },
  {
   "cell_type": "code",
   "execution_count": null,
   "metadata": {},
   "outputs": [],
   "source": [
    "len(df_url_links_sample)"
   ]
  },
  {
   "cell_type": "code",
   "execution_count": null,
   "metadata": {},
   "outputs": [],
   "source": [
    "df_links.groupby('cc')['domain'].nunique()"
   ]
  },
  {
   "cell_type": "code",
   "execution_count": null,
   "metadata": {},
   "outputs": [],
   "source": [
    "df_links.loc[df_links.cc=='ZA'].domain.drop_duplicates()"
   ]
  },
  {
   "cell_type": "code",
   "execution_count": 132,
   "metadata": {},
   "outputs": [
    {
     "name": "stdout",
     "output_type": "stream",
     "text": [
      "https://kong.speedcheckerapi.com:8443/ProbeAPIv2/GetPageLoadResults?apikey=a374d018-7235-4fd8-84f2-e97b80233544&testID=e83e4f55-e014-450c-a0a5-c53edb1607cb\n",
      "{'ResponseStatus': {'StatusCode': '502', 'StatusText': 'Test failed, not enough probes'}, 'PageLoadTestResults': []}\n",
      "[]\n"
     ]
    }
   ],
   "source": [
    "print(retrievePageLoadTestResults('e83e4f55-e014-450c-a0a5-c53edb1607cb'))"
   ]
  },
  {
   "cell_type": "code",
   "execution_count": null,
   "metadata": {},
   "outputs": [],
   "source": [
    "df_url_results1 = pd.read_csv('data/url_results_1.csv', sep='|', encoding='utf-8', keep_default_na=False)\n",
    "df_url_results2 = pd.read_csv('data/url_results_2.csv', sep='|', encoding='utf-8', keep_default_na=False)\n",
    "df_url_results3 = pd.read_csv('data/url_results_3.csv', sep='|', encoding='utf-8', keep_default_na=False)\n",
    "\n",
    "df_url_results = pd.concat([df_url_results1, df_url_results2, df_url_results3], ignore_index=True)\n",
    "df_url_results = df_url_results.loc[df_url_results.StatusCode==200]"
   ]
  },
  {
   "cell_type": "code",
   "execution_count": null,
   "metadata": {},
   "outputs": [],
   "source": [
    "df_url_results.to_csv('data/url_results.csv', sep='|', encoding='utf-8', index=False)"
   ]
  },
  {
   "cell_type": "code",
   "execution_count": null,
   "metadata": {},
   "outputs": [],
   "source": [
    "df_url_links_sample"
   ]
  },
  {
   "cell_type": "code",
   "execution_count": null,
   "metadata": {},
   "outputs": [],
   "source": [
    "df_ori_amp_results = pd.read_csv('data/ori_amp_url_results.csv', sep='|', encoding='utf-8', keep_default_na=False)\n",
    "df_amp_viewer_results = pd.read_csv('data/amp_viewer_url_results.csv', sep='|', encoding='utf-8', keep_default_na=False)"
   ]
  },
  {
   "cell_type": "code",
   "execution_count": null,
   "metadata": {},
   "outputs": [],
   "source": [
    "len(df_amp_viewer_results['domain'].drop_duplicates())"
   ]
  },
  {
   "cell_type": "code",
   "execution_count": null,
   "metadata": {},
   "outputs": [],
   "source": [
    "df_amp_viewer_results = pd.read_csv('data/amp_viewer_url_results.csv', sep='|', encoding='utf-8', keep_default_na=False)\n",
    "# df_amp_viewer_results = df_amp_viewer_results.loc[df_amp_viewer_results['StatusText'] == 'OK']\n",
    "# df_amp_viewer_results\n",
    "df_amp_viewer_results = df_amp_viewer_results[(df_amp_viewer_results.HTTPStatus == 200) & (df_amp_viewer_results['StatusText'] == 'OK')]\n",
    "df_amp_viewer_results = df_amp_viewer_results[(df_amp_viewer_results.InitialConnection > 0) & (df_amp_viewer_results.SSLNegotiationTime > 0) & (df_amp_viewer_results.DNSLookupTime > 0)]\n",
    "df_amp_viewer_results"
   ]
  },
  {
   "cell_type": "code",
   "execution_count": null,
   "metadata": {},
   "outputs": [],
   "source": [
    "df_amp_viewer_results[df_amp_viewer_results.StatusCode==200]"
   ]
  },
  {
   "cell_type": "code",
   "execution_count": null,
   "metadata": {},
   "outputs": [],
   "source": [
    "df_amp_cdn_results = pd.read_csv('data/amp_cdn_url_results.csv', sep='|', encoding='utf-8', keep_default_na=False)\n",
    "df_amp_cdn_results = df_amp_cdn_results[(df_amp_cdn_results.HTTPStatus=='200') & \n",
    "                                        (df_amp_cdn_results.StatusText=='OK') & \n",
    "                                        (df_amp_cdn_results.InitialConnection > 0)]\n",
    "df_amp_cdn_results"
   ]
  },
  {
   "cell_type": "code",
   "execution_count": null,
   "metadata": {},
   "outputs": [],
   "source": [
    "df_url_results = pd.read_csv('data/url_results.csv', sep='|', encoding='utf-8', keep_default_na=False)\n",
    "df_url_results = df_url_results[(df_url_results.HTTPStatus==200) & (df_url_results.StatusText=='OK')]"
   ]
  },
  {
   "cell_type": "code",
   "execution_count": null,
   "metadata": {},
   "outputs": [],
   "source": [
    "df_ori_amp_results = pd.read_csv('data/ori_amp_url_results.csv', sep='|', encoding='utf-8', \n",
    "                                 keep_default_na=False, \n",
    "                                 converters={'InitialConnection':int, 'TotalDownloadedBytes':int})\n",
    "df_ori_amp_results = df_ori_amp_results[(df_ori_amp_results.HTTPStatus == '200') & \n",
    "                                        (df_ori_amp_results.StatusText == 'OK') &\n",
    "                                        (df_ori_amp_results['InitialConnection'] > 0) &\n",
    "                                        (df_ori_amp_results['DNSLookupTime'] > 0)]"
   ]
  },
  {
   "cell_type": "code",
   "execution_count": null,
   "metadata": {},
   "outputs": [],
   "source": [
    "df_amp_viewer_results = pd.read_csv('data/amp_viewer_url_results-1707201.csv', sep=';', encoding='utf-8', \n",
    "                                    keep_default_na=False,\n",
    "                                    converters={'InitialConnection':int, 'TotalDownloadedBytes':int})                                  \n",
    "# df_amp_viewer_results = df_amp_viewer_results[(df_amp_viewer_results.HTTPStatus == 200) & \n",
    "#                                               (df_amp_viewer_results.StatusText == 'OK') &\n",
    "#                                               (df_amp_viewer_results['InitialConnection'] > 0) &\n",
    "#                                               (df_amp_viewer_results['DNSLookupTime'] > 0)]"
   ]
  },
  {
   "cell_type": "code",
   "execution_count": null,
   "metadata": {},
   "outputs": [],
   "source": [
    "df_amp_viewer_results.iloc[:,[14]].applymap(np.isreal)"
   ]
  },
  {
   "cell_type": "code",
   "execution_count": null,
   "metadata": {},
   "outputs": [],
   "source": [
    "df_links_sample = pd.read_csv('data/links.csv', sep='|', encoding='utf-8', keep_default_na=False)"
   ]
  },
  {
   "cell_type": "code",
   "execution_count": null,
   "metadata": {},
   "outputs": [],
   "source": [
    "len(df_links_sample.groupby('url'))"
   ]
  },
  {
   "cell_type": "code",
   "execution_count": 124,
   "metadata": {},
   "outputs": [],
   "source": [
    "df_ori_amp_results = pd.read_csv('data/ori_amp_url_results.csv', sep=';', encoding='utf-8', \n",
    "                                 keep_default_na=False)\n",
    "df_amp_viewer_results = pd.read_csv('data/amp_viewer_url_results-1707201.csv', sep=';', encoding='utf-8', \n",
    "                                     keep_default_na=False)\n",
    "df_amp_viewer_results2 = pd.read_csv('data/amp_viewer_url_results_EUUS21072018.csv', sep=';', encoding='utf-8', \n",
    "                                     keep_default_na=False)\n",
    "df_url_results = pd.read_csv('data/url_results.csv', sep=';', encoding='utf-8',\n",
    "                             keep_default_na=False)"
   ]
  },
  {
   "cell_type": "code",
   "execution_count": 125,
   "metadata": {},
   "outputs": [
    {
     "data": {
      "text/plain": [
       "0      {'ASN': 37123, 'ConnectionType': 'Ethernet', '...\n",
       "1      {'ASN': 37123, 'ConnectionType': 'Ethernet', '...\n",
       "2      {'ASN': 37123, 'ConnectionType': 'Ethernet', '...\n",
       "3      {'ASN': 37183, 'ConnectionType': 'Ethernet', '...\n",
       "4      {'ASN': 37123, 'ConnectionType': 'Ethernet', '...\n",
       "5      {'ASN': 37123, 'ConnectionType': 'Ethernet', '...\n",
       "6      {'ASN': 37183, 'ConnectionType': 'Ethernet', '...\n",
       "7      {'ASN': 37123, 'ConnectionType': 'Ethernet', '...\n",
       "8      {'ASN': 37183, 'ConnectionType': 'Ethernet', '...\n",
       "9      {'ASN': 37123, 'ConnectionType': 'Ethernet', '...\n",
       "10     {'ASN': 37183, 'ConnectionType': 'Ethernet', '...\n",
       "11     {'ASN': 37123, 'ConnectionType': 'Ethernet', '...\n",
       "12     {'ASN': 37123, 'ConnectionType': 'Ethernet', '...\n",
       "13     {'ASN': 37183, 'ConnectionType': 'Ethernet', '...\n",
       "14     {'ASN': 37123, 'ConnectionType': 'Ethernet', '...\n",
       "15     {'ASN': 37123, 'ConnectionType': 'Ethernet', '...\n",
       "16     {'ASN': 37123, 'ConnectionType': 'Ethernet', '...\n",
       "17     {'ASN': 37123, 'ConnectionType': 'Ethernet', '...\n",
       "18     {'ASN': 37123, 'ConnectionType': 'Ethernet', '...\n",
       "19     {'ASN': 37457, 'CityName': 'Pretoria', 'Connec...\n",
       "20     {'ASN': 37179, 'CityName': 'Pretoria', 'Connec...\n",
       "21     {'ASN': 11845, 'CityName': 'Johannesburg', 'Co...\n",
       "22     {'ASN': 37105, 'CityName': 'Johannesburg', 'Co...\n",
       "23     {'ASN': 37457, 'CityName': 'Kimberley', 'Conne...\n",
       "24     {'ASN': 10474, 'CityName': 'Cape Town', 'Conne...\n",
       "25     {'ASN': 36874, 'CityName': 'Durban', 'Connecti...\n",
       "26     {'ASN': 37457, 'CityName': 'Johannesburg', 'Co...\n",
       "27     {'ASN': 37457, 'CityName': 'Pretoria', 'Connec...\n",
       "28     {'ASN': 11845, 'CityName': 'Johannesburg', 'Co...\n",
       "29     {'ASN': 37105, 'CityName': 'Johannesburg', 'Co...\n",
       "                             ...                        \n",
       "214    {'ASN': 36947, 'CityName': 'Saida', 'Connectio...\n",
       "215    {'ASN': 29571, 'CityName': 'Abidjan', 'Connect...\n",
       "216    {'ASN': 29571, 'CityName': 'Abidjan', 'Connect...\n",
       "217    {'ASN': 37638, 'CityName': 'Gandajika', 'Conne...\n",
       "218    {'ASN': 37638, 'CityName': 'Gandajika', 'Conne...\n",
       "219    {'ASN': 37638, 'CityName': 'Gandajika', 'Conne...\n",
       "220    {'ASN': 37638, 'CityName': 'Gandajika', 'Conne...\n",
       "221    {'ASN': 37638, 'CityName': 'Gandajika', 'Conne...\n",
       "222    {'ASN': 37638, 'CityName': 'Gandajika', 'Conne...\n",
       "223    {'ASN': 37638, 'CityName': 'Gandajika', 'Conne...\n",
       "224    {'ASN': 37638, 'CityName': 'Gandajika', 'Conne...\n",
       "225    {'ASN': 37638, 'CityName': 'Gandajika', 'Conne...\n",
       "226    {'ASN': 37638, 'CityName': 'Gandajika', 'Conne...\n",
       "227    {'ASN': 8452, 'CityName': 'Cairo', 'Connection...\n",
       "228    {'ASN': 8452, 'CityName': 'Cairo', 'Connection...\n",
       "229    {'ASN': 8452, 'CityName': 'Cairo', 'Connection...\n",
       "230    {'ASN': 8452, 'CityName': 'Cairo', 'Connection...\n",
       "231    {'ASN': 8452, 'CityName': 'Cairo', 'Connection...\n",
       "232    {'ASN': 8452, 'CityName': 'Cairo', 'Connection...\n",
       "233    {'ASN': 8452, 'CityName': 'Cairo', 'Connection...\n",
       "234    {'ASN': 2609, 'CityName': 'Bizerte', 'Connecti...\n",
       "235    {'ASN': 2609, 'CityName': 'Bizerte', 'Connecti...\n",
       "236    {'ASN': 2609, 'CityName': 'Bizerte', 'Connecti...\n",
       "237    {'ASN': 2609, 'CityName': 'Bizerte', 'Connecti...\n",
       "238    {'ASN': 2609, 'CityName': 'Bizerte', 'Connecti...\n",
       "239    {'ASN': 2609, 'CityName': 'Bizerte', 'Connecti...\n",
       "240    {'ASN': 2609, 'CityName': 'Bizerte', 'Connecti...\n",
       "241    {'ASN': 2609, 'CityName': 'Bizerte', 'Connecti...\n",
       "242    {'ASN': 2609, 'CityName': 'Bizerte', 'Connecti...\n",
       "243    {'ASN': 2609, 'CityName': 'Bizerte', 'Connecti...\n",
       "Name: ProbeInfo, Length: 244, dtype: object"
      ]
     },
     "execution_count": 125,
     "metadata": {},
     "output_type": "execute_result"
    }
   ],
   "source": [
    "df_url_results.ProbeInfo"
   ]
  },
  {
   "cell_type": "code",
   "execution_count": 126,
   "metadata": {},
   "outputs": [],
   "source": [
    "import ast\n",
    "df_ori_amp_results['ASN'] = df_ori_amp_results.apply(lambda x: ast.literal_eval(x.ProbeInfo)['ASN'], axis = 1)\n",
    "df_amp_viewer_results['ASN'] = df_amp_viewer_results.apply(lambda x: ast.literal_eval(x.ProbeInfo)['ASN'], axis = 1)\n",
    "df_amp_viewer_results2['ASN'] = df_amp_viewer_results2.apply(lambda x: ast.literal_eval(x.ProbeInfo)['ASN'], axis = 1)\n",
    "df_url_results['ASN'] = df_url_results.apply(lambda x:ast.literal_eval(x.ProbeInfo)['ASN'], axis = 1)"
   ]
  },
  {
   "cell_type": "code",
   "execution_count": 127,
   "metadata": {},
   "outputs": [],
   "source": [
    "df=pd.concat([df_ori_amp_results, df_amp_viewer_results, df_amp_viewer_results2, df_url_results])"
   ]
  },
  {
   "cell_type": "code",
   "execution_count": 128,
   "metadata": {},
   "outputs": [
    {
     "data": {
      "text/plain": [
       "476"
      ]
     },
     "execution_count": 128,
     "metadata": {},
     "output_type": "execute_result"
    }
   ],
   "source": [
    "len(df.groupby('Destination'))"
   ]
  },
  {
   "cell_type": "code",
   "execution_count": 131,
   "metadata": {},
   "outputs": [
    {
     "data": {
      "text/plain": [
       "array(['ZW', 'ZA', 'GQ', 'NG', 'KE', 'SO', 'GH', 'CV', 'MA', 'ZM', 'MW',\n",
       "       'ML', 'YT', 'UG', 'RE', 'SL', 'SS', 'DZ', 'LR', 'CI', 'TD', 'SN',\n",
       "       'CM', 'DJ', 'ET', 'TG', 'GA', 'ER', 'CF', 'BJ', 'CD', 'MU', 'MG',\n",
       "       'LY', 'EG', 'TZ', 'NA', 'AO', 'TN', 'EH', 'ST'], dtype=object)"
      ]
     },
     "execution_count": 131,
     "metadata": {},
     "output_type": "execute_result"
    }
   ],
   "source": [
    "df_links_sample['cc'].drop_duplicates().values"
   ]
  },
  {
   "cell_type": "code",
   "execution_count": null,
   "metadata": {},
   "outputs": [],
   "source": [
    "df_domains = pd.read_csv('data/domain.csv',sep=',', encoding='latin1', keep_default_na=False)\n",
    "df_links = pd.read_csv('data/links.csv',sep='|', encoding='latin1', keep_default_na=False)"
   ]
  },
  {
   "cell_type": "code",
   "execution_count": null,
   "metadata": {},
   "outputs": [],
   "source": [
    "len(df_domains)"
   ]
  },
  {
   "cell_type": "code",
   "execution_count": 140,
   "metadata": {},
   "outputs": [],
   "source": [
    "df_1 = pd.read_csv('data/amp_viewer_url_results-1307201.csv', sep=';', encoding='utf-8', keep_default_na=False)\n",
    "df_2 = pd.read_csv('data/amp_viewer_url_results-1707201.csv', sep=';', encoding='utf-8', keep_default_na=False)\n",
    "df_3 = pd.read_csv('data/amp_viewer_url_results.csv', sep=';', encoding='utf-8', keep_default_na=False)\n",
    "df_amp_viewer_results = pd.concat([df_1, df_2])\n",
    "                                 \n",
    "df_amp_viewer_results = df_amp_viewer_results[(df_amp_viewer_results.HTTPStatus == 200)\n",
    "                                              & (df_amp_viewer_results.StatusText == 'OK')\n",
    "                                               & (df_amp_viewer_results['PageLoadTime'] > 0)\n",
    "                                               & (df_amp_viewer_results['TotalDownloadedBytes'] > 1020) \n",
    "                                             ]\n"
   ]
  },
  {
   "cell_type": "code",
   "execution_count": 141,
   "metadata": {},
   "outputs": [
    {
     "data": {
      "image/png": "[encoded data removed]",
      "text/plain": [
       "<Figure size 432x288 with 1 Axes>"
      ]
     },
     "metadata": {},
     "output_type": "display_data"
    }
   ],
   "source": [
    "n_bins = 5000\n",
    "\n",
    "fig, ax = plt.subplots(figsize=(6, 4))\n",
    "labels = ['AMP Viewer URL']\n",
    "\n",
    "# plot the cumulative histogram\n",
    "n, bins, patches = ax.hist([df_amp_viewer_results['PageLoadTime'].astype(np.int)/1000\n",
    "                           ], \n",
    "                           n_bins, density=1, histtype='step', linewidth=2, \n",
    "                           range=[0,45],\n",
    "                           cumulative=True, label=labels)\n",
    "\n",
    "# tidy up the figure\n",
    "ax.grid(True)\n",
    "ax.legend(loc='right')\n",
    "#ax.set_title('Page Load Time by URL Type')\n",
    "ax.set_xlabel('seconds')\n",
    "ax.set_ylabel('CDF')\n",
    "\n",
    "#plt.savefig(\"data/plots/CDF_PageLoadTime.pdf\")\n",
    "plt.show()"
   ]
  },
  {
   "cell_type": "code",
   "execution_count": null,
   "metadata": {},
   "outputs": [],
   "source": []
  }
 ],
 "metadata": {
  "kernelspec": {
   "display_name": "Python 3",
   "language": "python",
   "name": "python3"
  },
  "language_info": {
   "codemirror_mode": {
    "name": "ipython",
    "version": 3
   },
   "file_extension": ".py",
   "mimetype": "text/x-python",
   "name": "python",
   "nbconvert_exporter": "python",
   "pygments_lexer": "ipython3",
   "version": "3.6.5"
  }
 },
 "nbformat": 4,
 "nbformat_minor": 2
}
