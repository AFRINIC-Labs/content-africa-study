{
 "cells": [
  {
   "cell_type": "code",
   "execution_count": 42,
   "metadata": {},
   "outputs": [],
   "source": [
    "import requests\n",
    "import json, re, time\n",
    "from datetime import datetime\n",
    "import pandas as pd"
   ]
  },
  {
   "cell_type": "code",
   "execution_count": 43,
   "metadata": {},
   "outputs": [],
   "source": [
    "with open('api.key','r') as f:\n",
    "    APIKEY = f.read()\n",
    "\n",
    "HEADERS = {'apikey': APIKEY,\n",
    "            'accept': 'application/json',\n",
    "            'content-type': 'application/json',\n",
    "            'cookie': 'ASP.NET_SessionId=aiggen1ccck0gq141dgq1sip; ASP.NET_SessionId=aiggen1ccck0gq141dgq1sip'\n",
    "          }\n",
    "\n",
    "API_ENDPOINT = 'https://kong.speedcheckerapi.com:8443/ProbeAPIv2/'\n",
    "\n",
    "probeInfoProperties = [\n",
    "        \"ASN\",\n",
    "        \"CityName\",\n",
    "        \"ConnectionType\",\n",
    "        \"CountryCode\",\n",
    "        \"DNSResolver\",\n",
    "        \"GeolocationAccuracy\",\n",
    "        \"IPAddress\",\n",
    "        \"Latitude\",\n",
    "        \"Longitude\",\n",
    "        \"Network\",\n",
    "        \"NetworkID\",\n",
    "        \"Platform\",\n",
    "        \"ProbeID\",\n",
    "        \"Version\"\n",
    "    ]"
   ]
  },
  {
   "cell_type": "code",
   "execution_count": 44,
   "metadata": {},
   "outputs": [],
   "source": [
    "def getTestSettings(cc, url):\n",
    "    \n",
    "    destinations = [url]\n",
    "    json_test = {\n",
    "                  \"testSettings\": {\n",
    "                    \"TestCount\": 10,\n",
    "                    \"Sources\": [\n",
    "                      {\n",
    "                        \"CountryCode\": cc\n",
    "                      }\n",
    "                    ],\n",
    "                    \"Destinations\": destinations,\n",
    "                    \"ProbeInfoProperties\": probeInfoProperties\n",
    "                  }\n",
    "                }\n",
    "    return json_test"
   ]
  },
  {
   "cell_type": "code",
   "execution_count": null,
   "metadata": {},
   "outputs": [],
   "source": [
    "def getTestSettingsTraceroute(cc, url):\n",
    "    json_test = {\n",
    "                  \"testSettings\": {\n",
    "                    \"BufferSize\": 32,\n",
    "                    \"Count\": 3,\n",
    "                    \"Fragment\": 1,\n",
    "                    \"Ipv4only\": 0,\n",
    "                    \"Ipv6only\": 0,\n",
    "                    \"MaxFailedHops\": 0,\n",
    "                    \"Resolve\": 1,\n",
    "                    \"Sleep\": 300,\n",
    "                    \"Ttl\": 128,\n",
    "                    \"TtlStart\": 1,\n",
    "                    \"Timeout\": 60000,\n",
    "                    \"HopTimeout\": 1000,\n",
    "                    \"TestCount\": 10,\n",
    "                    \"Sources\": [\n",
    "                      {\n",
    "                        \"CountryCode\": cc\n",
    "                      }\n",
    "                    ],\n",
    "                    \"Destinations\": [\n",
    "                      url\n",
    "                    ],\n",
    "                    \"ProbeInfoProperties\": probeInfoProperties\n",
    "                  }\n",
    "                }\n",
    "    return json_test"
   ]
  },
  {
   "cell_type": "markdown",
   "metadata": {},
   "source": [
    "### StartPageLoadTest function"
   ]
  },
  {
   "cell_type": "code",
   "execution_count": 45,
   "metadata": {},
   "outputs": [],
   "source": [
    "def startPageLoadTest(test_settings):\n",
    "    \n",
    "    test_url = API_ENDPOINT + \"StartPageLoadTest\"\n",
    "    try:\n",
    "        r = requests.post(test_url, data=json.dumps(test_settings), headers=HEADERS)\n",
    "    except requests.exceptions.RequestException as e:\n",
    "        return \"Request FAILED\"\n",
    "    \n",
    "    res = json.loads(r.text)\n",
    "        \n",
    "    if (\"OK\" == res['StartPageLoadTestResult']['Status']['StatusText']):\n",
    "        return res['StartPageLoadTestResult']['TestID']\n",
    "    else:\n",
    "        return \"FAILED\""
   ]
  },
  {
   "cell_type": "markdown",
   "metadata": {},
   "source": [
    "### StartTracerouteTest function"
   ]
  },
  {
   "cell_type": "code",
   "execution_count": 58,
   "metadata": {},
   "outputs": [],
   "source": [
    "def startTracerouteTest(test_settings):\n",
    "    \n",
    "    test_url = API_ENDPOINT + \"StartTracertTest\"\n",
    "    try:\n",
    "        r = requests.post(test_url, data=json.dumps(test_settings), headers=HEADERS)\n",
    "    except requests.exceptions.RequestException as e:\n",
    "        return \"Request FAILED\"\n",
    "    \n",
    "    res = json.loads(r.text)\n",
    "        \n",
    "    if (\"OK\" == res['StartTracerouteTestResult']['Status']['StatusText']):\n",
    "        return res['StartTracerouteTestResult']['TestID']\n",
    "    else:\n",
    "        return \"FAILED\""
   ]
  },
  {
   "cell_type": "markdown",
   "metadata": {},
   "source": [
    "### retrievePageLoadTestResults function"
   ]
  },
  {
   "cell_type": "code",
   "execution_count": 46,
   "metadata": {},
   "outputs": [],
   "source": [
    "def retrievePageLoadTestResults(testID):\n",
    "    \n",
    "    url = API_ENDPOINT + \"GetPageLoadResults?apikey=\" + APIKEY + \"&testID=\" + testID\n",
    "    \n",
    "    try:    \n",
    "        r = requests.get(url, headers=HEADERS)\n",
    "    except requests.exceptions.RequestException as e:  # This is the correct syntax\n",
    "        return []\n",
    "    \n",
    "    res = json.loads(r.text)\n",
    "    return res['PageLoadTestResults']"
   ]
  },
  {
   "cell_type": "markdown",
   "metadata": {},
   "source": [
    "### retrieveTracerouteTestResults function"
   ]
  },
  {
   "cell_type": "code",
   "execution_count": 59,
   "metadata": {},
   "outputs": [],
   "source": [
    "def retrieveTracerouteTestResults(testID):\n",
    "    \n",
    "    url = API_ENDPOINT + \"GetTracertResults?apikey=\" + APIKEY + \"&testID=\" + testID\n",
    "    \n",
    "    try:    \n",
    "        r = requests.get(url, headers=HEADERS)\n",
    "    except requests.exceptions.RequestException as e:  # This is the correct syntax\n",
    "        return []\n",
    "    \n",
    "    res = json.loads(r.text)\n",
    "    return res['TracerouteTestResults']"
   ]
  },
  {
   "cell_type": "markdown",
   "metadata": {},
   "source": [
    "## Retrieve results"
   ]
  },
  {
   "cell_type": "code",
   "execution_count": 47,
   "metadata": {},
   "outputs": [],
   "source": [
    "def getResultsFromTestIDs(df_tests_url):\n",
    "    df_results = pd.DataFrame(columns=['domain',\n",
    "                                       'cc',\n",
    "                                       'ProbeInfo',\n",
    "                                       'TestDateTime',\n",
    "                                       'StatusCode',\n",
    "                                       'StatusText',\n",
    "                                       'DNSLookupTime', \n",
    "                                       'Destination', \n",
    "                                       'HTTPStatus', \n",
    "                                       'InitialConnection', \n",
    "                                       'NumberOfRequests', \n",
    "                                       'PageLoadTime', \n",
    "                                       'SSLNegotiationTime', \n",
    "                                       'TTFB', \n",
    "                                       'TotalDownloadedBytes'\n",
    "                                      ])\n",
    "    \n",
    "    #Exclude FAILED items\n",
    "    for index, row in df_tests_url.loc[df_tests_url.testID!='FAILED'].iterrows():\n",
    "        \n",
    "        domain = row['domain']\n",
    "        cc = row['cc']\n",
    "        testID = row['testID']\n",
    "        pageLoadTestResults =  retrievePageLoadTestResults(testID)\n",
    "\n",
    "        if (pageLoadTestResults is None or len(pageLoadTestResults) < 1):\n",
    "            continue\n",
    "        \n",
    "        for res in pageLoadTestResults:\n",
    "        \n",
    "            probeInfo = res['ProbeInfo']\n",
    "            testDateTime = res['TestDateTime']\n",
    "\n",
    "            #extract the epoch\n",
    "            m = re.search('/Date\\((\\d+)\\+0000\\)/', testDateTime)\n",
    "            if m:\n",
    "                testDateTime = m.group(1)[:-3]\n",
    "\n",
    "            #convert into human readable format\n",
    "            testDateTime = datetime.fromtimestamp(int(testDateTime)).strftime('%Y-%m-%d')\n",
    "            statusCode = res['TestStatus']['StatusCode']\n",
    "            statusText = res['TestStatus']['StatusText']\n",
    "            dnsLookupTime = res['DNSLookupTime']\n",
    "            destination =  res['Destination']\n",
    "            hTTPStatus = res['HTTPStatus']\n",
    "            initialConnection = res['InitialConnection']\n",
    "            numberOfRequests =  res['NumberOfRequests'] \n",
    "            pageLoadTime =  res['PageLoadTime'] \n",
    "            sslNegotiationTime = res['SSLNegotiationTime'] \n",
    "            ttfb = res['TTFB']\n",
    "            totalDownloadedBytes = res['TotalDownloadedBytes']\n",
    "\n",
    "            df_results = df_results.append({\n",
    "                'domain': domain,\n",
    "                'cc': cc,\n",
    "                'ProbeInfo':probeInfo,\n",
    "                'TestDateTime': testDateTime,\n",
    "                'StatusCode':statusCode,\n",
    "                'StatusText':statusText,\n",
    "                'DNSLookupTime':dnsLookupTime,\n",
    "                'Destination':destination,\n",
    "                'HTTPStatus':hTTPStatus,\n",
    "                'InitialConnection':initialConnection,\n",
    "                'NumberOfRequests':numberOfRequests,\n",
    "                'PageLoadTime':pageLoadTime,\n",
    "                'SSLNegotiationTime':sslNegotiationTime,\n",
    "                'TTFB':ttfb,\n",
    "                'TotalDownloadedBytes':totalDownloadedBytes\n",
    "            }, ignore_index=True)\n",
    "\n",
    "    return df_results"
   ]
  },
  {
   "cell_type": "code",
   "execution_count": 48,
   "metadata": {},
   "outputs": [],
   "source": [
    "def runMeasurements(df_links, url_type, filename):\n",
    "    df_testID = pd.DataFrame(columns=['domain', 'cc', 'testID'])\n",
    "\n",
    "    for index, row in df_links.iterrows():\n",
    "        domain = row['domain']\n",
    "        cc = row['cc']\n",
    "        url = row[url_type]\n",
    "\n",
    "        test_settings = getTestSettings(cc, url)\n",
    "        testID = startPageLoadTest(test_settings)\n",
    "        print(testID)\n",
    "        \n",
    "        df_testID = df_testID.append({'domain': domain, 'cc': cc, 'testID': testID}, ignore_index=True)\n",
    "    \n",
    "    df_testID.to_csv(filename, sep='|', encoding='utf-8', index=False)    \n",
    "    "
   ]
  },
  {
   "cell_type": "code",
   "execution_count": 49,
   "metadata": {},
   "outputs": [],
   "source": [
    "df_links = pd.read_csv('data/links_sample.csv', sep='|', encoding='utf-8', keep_default_na=False)"
   ]
  },
  {
   "cell_type": "code",
   "execution_count": null,
   "metadata": {},
   "outputs": [],
   "source": [
    "runMeasurements(df_links, 'url', 'data/url_testID.csv')\n",
    "#runMeasurements(df_links, 'ori_amp_url', 'data/ori_amp_url_testID.csv')\n",
    "#runMeasurements(df_links, 'amp_viewer_url', 'data/amp_viewer_url_testID.csv')\n",
    "#runMeasurements(df_links, 'amp_cdn_url', 'data/amp_cdn_url_testID.csv')"
   ]
  },
  {
   "cell_type": "code",
   "execution_count": 51,
   "metadata": {},
   "outputs": [],
   "source": [
    "df_testIDs_url = pd.read_csv('data/url_testID.csv', sep='|', encoding='utf-8', keep_default_na=False)\n",
    "#df_testIDs_ori_amp = pd.read_csv('data/ori_amp_url_testID.csv', sep='|', encoding='utf-8', keep_default_na=False)\n",
    "#df_testIDs_amp_viewer = pd.read_csv('data/amp_viewer_url_testID.csv', sep='|', encoding='utf-8', keep_default_na=False)\n",
    "#df_testIDs_amp_cdn = pd.read_csv('data/amp_cdn_url_testID.csv', sep='|', encoding='utf-8', keep_default_na=False)"
   ]
  },
  {
   "cell_type": "code",
   "execution_count": 52,
   "metadata": {},
   "outputs": [],
   "source": [
    "#df_results_ori_amp = getResultsFromTestIDs(df_testIDs_ori_amp)\n",
    "#df_results_amp_viewer = getResultsFromTestIDs(df_testIDs_amp_viewer)\n",
    "#df_results_amp_cdn = getResultsFromTestIDs(df_testIDs_amp_cdn)\n",
    "df_results_url = getResultsFromTestIDs(df_testIDs_url)"
   ]
  },
  {
   "cell_type": "code",
   "execution_count": 53,
   "metadata": {},
   "outputs": [],
   "source": [
    "df_results_url.to_csv(\"data/url_results\" + time.strftime(\"%d%m%Y\") + \".csv\", sep='|', encoding='utf-8', index=False)\n",
    "#df_results_ori_amp.to_csv(\"data/ori_amp_url_results.csv\", sep='|', encoding='utf-8', index=False)\n",
    "#df_results_amp_viewer.to_csv(\"data/amp_viewer_url_results.csv\", sep='|', encoding='utf-8', index=False)\n",
    "#df_results_amp_cdn.to_csv(\"data/amp_cdn_url_results.csv\", sep='|', encoding='utf-8', index=False)"
   ]
  },
  {
   "cell_type": "code",
   "execution_count": 55,
   "metadata": {},
   "outputs": [],
   "source": [
    "df_results_url = df_results_url[(df_results_url.HTTPStatus=='200') & (df_results_url.StatusText=='OK')]"
   ]
  },
  {
   "cell_type": "code",
   "execution_count": 57,
   "metadata": {},
   "outputs": [],
   "source": [
    "df_results_url.to_csv(\"data/url_results.csv\", sep='|', encoding='utf-8', index=False)\n"
   ]
  },
  {
   "cell_type": "code",
   "execution_count": null,
   "metadata": {},
   "outputs": [],
   "source": []
  }
 ],
 "metadata": {
  "kernelspec": {
   "display_name": "Python 3",
   "language": "python",
   "name": "python3"
  },
  "language_info": {
   "codemirror_mode": {
    "name": "ipython",
    "version": 3
   },
   "file_extension": ".py",
   "mimetype": "text/x-python",
   "name": "python",
   "nbconvert_exporter": "python",
   "pygments_lexer": "ipython3",
   "version": "3.6.5"
  }
 },
 "nbformat": 4,
 "nbformat_minor": 2
}
