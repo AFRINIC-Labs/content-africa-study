{
 "cells": [
  {
   "cell_type": "markdown",
   "metadata": {},
   "source": [
    "# Plots for Content Africa study"
   ]
  },
  {
   "cell_type": "code",
   "execution_count": null,
   "metadata": {
    "collapsed": true
   },
   "outputs": [],
   "source": [
    "import csv\n",
    "import numpy as np\n",
    "import matplotlib.pyplot as plt\n",
    "from matplotlib import mlab\n",
    "import pandas as pd\n",
    "\n",
    "#not used\n",
    "def removeOutliers(arr):\n",
    "    elements = np.array(arr)\n",
    "    elements = elements.astype(int)\n",
    "    mean = np.mean(elements, axis=0)\n",
    "    sd = np.std(elements, axis=0)\n",
    "    \n",
    "    final_list = [x for x in arr if (x > mean - 2 * sd)]\n",
    "    final_list = [x for x in final_list if (x < mean + 2 * sd)]\n",
    "        \n",
    "    return final_list\n",
    "\n",
    "\n",
    "DATA_PATH=\"../data/tables/views/\"\n",
    "\n",
    "mobile = []\n",
    "price_mobile = []\n",
    "desktop = []\n",
    "price_desktop = []\n",
    "with open(DATA_PATH+\"domain_cost_view.csv\",\"r\") as csvfile:\n",
    "    next(csvfile)\n",
    "    reader = csv.reader(csvfile, delimiter=',', quotechar='\"')\n",
    "    for row in reader:\n",
    "        size_m = row[3]\n",
    "        size_d = row[5]\n",
    "        price_m = row[4]\n",
    "        price_d = row[6]\n",
    "        \n",
    "        if (price_m == \"NULL\" or price_d == \"NULL\"):\n",
    "            continue\n",
    "        \n",
    "        mobile.append(int(size_m)/1000)\n",
    "        desktop.append(int(size_d)/1000)\n",
    "        \n",
    "        try:\n",
    "            price_mobile.append(float(price_m))\n",
    "            price_desktop.append(float(price_d))\n",
    "        except:\n",
    "            print price_m\n",
    "            print price_d\n",
    "        "
   ]
  },
  {
   "cell_type": "markdown",
   "metadata": {},
   "source": [
    "## Size and price of African websites"
   ]
  },
  {
   "cell_type": "code",
   "execution_count": null,
   "metadata": {},
   "outputs": [],
   "source": [
    "n_bins = 500\n",
    "\n",
    "fig, ax = plt.subplots(figsize=(8, 4))\n",
    "\n",
    "# plot the cumulative histogram\n",
    "n, bins, patches = ax.hist([mobile, desktop], n_bins, normed=1, histtype='step', range=[500, 3000], linewidth=2, \n",
    "                           cumulative=True, label=['Mobile', 'Desktop'])\n",
    "\n",
    "# tidy up the figure\n",
    "ax.grid(True)\n",
    "ax.legend(loc='right')\n",
    "ax.set_title('Size of African News websites')\n",
    "ax.set_xlabel('Size (KB)')\n",
    "ax.set_ylabel('CDF')\n",
    "\n",
    "#plt.savefig(\"../data/plots/website_sizes.svg\")\n",
    "plt.show()"
   ]
  },
  {
   "cell_type": "code",
   "execution_count": null,
   "metadata": {
    "scrolled": true
   },
   "outputs": [],
   "source": [
    "n_bins = 500\n",
    "\n",
    "fig, ax = plt.subplots(figsize=(8, 4))\n",
    "\n",
    "# plot the cumulative histogram\n",
    "n, bins, patches = ax.hist([price_mobile, price_desktop], n_bins, normed=1, histtype='step', range=[0.005, 0.035], linewidth=2, \n",
    "                           cumulative=True, label=['Mobile', 'Desktop'])\n",
    "# tidy up the figure\n",
    "ax.grid(True)\n",
    "ax.legend(loc='right')\n",
    "ax.set_title('Price of African News websites')\n",
    "ax.set_xlabel('Price (USD)')\n",
    "ax.set_ylabel('CDF')\n",
    "\n",
    "plt.savefig(\"../data/plots/website_price_to_access.svg\")\n",
    "plt.show()"
   ]
  },
  {
   "cell_type": "markdown",
   "metadata": {},
   "source": [
    "## Barcharts exploring local vs remote hosting"
   ]
  },
  {
   "cell_type": "code",
   "execution_count": null,
   "metadata": {
    "scrolled": true
   },
   "outputs": [],
   "source": [
    "\"\"\"\n",
    "========\n",
    "Barchart\n",
    "========\n",
    "\n",
    "A bar plot with errorbars and height labels on individual bars\n",
    "\"\"\"\n",
    "label_cc = []\n",
    "data_local = []\n",
    "data_remote = []\n",
    "count = 0\n",
    "with open(DATA_PATH+\"view_remote_local_websites_count_view.csv\",\"r\") as csvfile:\n",
    "    next(csvfile)\n",
    "    reader = csv.reader(csvfile, delimiter=',', quotechar='\"')\n",
    "    for row in reader:\n",
    "        cc = row[0]\n",
    "        total = int(row[1])\n",
    "        local = int(row[2])\n",
    "        remote = int(row[3])\n",
    "        \n",
    "        label_cc.append(cc)\n",
    "        data_local.append(100*local/total)\n",
    "        data_remote.append(100*remote/total)\n",
    "        count = count + 1\n",
    "        \n",
    "N = count\n",
    "\n",
    "ind = np.arange(N)    # the x locations for the groups\n",
    "width = 0.35       # the width of the bars: can also be len(x) sequence\n",
    "\n",
    "\n",
    "plt.figure(figsize=(20, 2))\n",
    "\n",
    "p1 = plt.bar(ind, data_local, width)\n",
    "p2 = plt.bar(ind, data_remote, width,\n",
    "             bottom=data_local)\n",
    "\n",
    "\n",
    "plt.ylabel('Percentage')\n",
    "plt.title('Percentage of websites per country local vs remote')\n",
    "plt.xticks(ind, label_cc)\n",
    "plt.yticks(np.arange(0, 100, 10))\n",
    "plt.legend((p1[0], p2[0]), ('Local', 'Remote'))\n",
    "\n",
    "plt.show()"
   ]
  },
  {
   "cell_type": "markdown",
   "metadata": {},
   "source": [
    "## Median and average of domain rtt values"
   ]
  },
  {
   "cell_type": "code",
   "execution_count": null,
   "metadata": {},
   "outputs": [],
   "source": [
    "remoteDict = {}\n",
    "localDict = {}\n",
    "medianRTT = {}\n",
    "averageRTT = {}\n",
    "\n",
    "with open(DATA_PATH+\"domain_rtt_remote.csv\",\"r\") as csvfile:\n",
    "    next(csvfile)\n",
    "    reader = csv.reader(csvfile, delimiter=',', quotechar='\"')\n",
    "    \n",
    "    for row in reader:\n",
    "        cc3 = row[0]\n",
    "        cc = row[1]\n",
    "        domain = row[2]\n",
    "        rtt = int(row[3])\n",
    "        \n",
    "        try:\n",
    "            remoteDict[cc].append(rtt)\n",
    "        except:\n",
    "            rttArray = []\n",
    "            rttArray.append(rtt)\n",
    "            remoteDict[cc] = rttArray\n",
    "            \n",
    "with open(DATA_PATH+\"domain_rtt_local.csv\",\"r\") as csvfile:\n",
    "    next(csvfile)\n",
    "    reader = csv.reader(csvfile, delimiter=',', quotechar='\"')\n",
    "    \n",
    "    for row in reader:\n",
    "        cc3 = row[0]\n",
    "        cc = row[1]\n",
    "        domain = row[2]\n",
    "        rtt = int(row[3])\n",
    "        \n",
    "        try:\n",
    "            localDict[cc].append(rtt)\n",
    "        except:\n",
    "            rttArray = []\n",
    "            rttArray.append(rtt)\n",
    "            localDict[cc] = rttArray\n",
    "\n",
    "for cc in remoteDict.keys():\n",
    "    try:\n",
    "        medianLocalRTT = np.median(localDict[cc])\n",
    "        medianRemoteRTT = np.median(remoteDict[cc])\n",
    "        \n",
    "        averageLocalRTT = np.average(localDict[cc])\n",
    "        averageRemoteRTT = np.average(remoteDict[cc])\n",
    "        \n",
    "        medianRTT[cc] = [medianLocalRTT, medianRemoteRTT]\n",
    "        averageRTT[cc] = [averageLocalRTT, averageRemoteRTT]\n",
    "    except:\n",
    "        medianRTT[cc] = [0, medianRemoteRTT]\n",
    "        averageRTT[cc] = [0, averageRemoteRTT]"
   ]
  },
  {
   "cell_type": "markdown",
   "metadata": {},
   "source": [
    "### Median RTT Distribution by country"
   ]
  },
  {
   "cell_type": "code",
   "execution_count": null,
   "metadata": {},
   "outputs": [],
   "source": [
    "df = pd.DataFrame(data=medianRTT)\n",
    "df = df.T\n",
    "\n",
    "ax = df.plot(kind='bar', title =\"Median RTT Distribution by country\", figsize=(20, 2), legend=True, fontsize=12)\n",
    "ax.set_xlabel(\"Countries\", fontsize=12)\n",
    "ax.set_ylabel(\"RTT (ms)\", fontsize=12)\n",
    "plt.legend((p1[0], p2[0]), ('Local', 'Remote'))\n",
    "plt.show()\n"
   ]
  },
  {
   "cell_type": "markdown",
   "metadata": {},
   "source": [
    "### Average RTT Distribution by country"
   ]
  },
  {
   "cell_type": "code",
   "execution_count": null,
   "metadata": {
    "scrolled": true
   },
   "outputs": [],
   "source": [
    "df = pd.DataFrame(data=averageRTT)\n",
    "df = df.T\n",
    "\n",
    "ax = df.plot(kind='bar', title =\"Average RTT Distribution by country\", figsize=(20, 2), legend=True, fontsize=12)\n",
    "ax.set_xlabel(\"Countries\", fontsize=12)\n",
    "ax.set_ylabel(\"RTT (ms)\", fontsize=12)\n",
    "plt.legend((p1[0], p2[0]), ('Local', 'Remote'))\n",
    "plt.show()"
   ]
  },
  {
   "cell_type": "markdown",
   "metadata": {},
   "source": [
    "# Africa Maps"
   ]
  },
  {
   "cell_type": "code",
   "execution_count": null,
   "metadata": {
    "collapsed": true
   },
   "outputs": [],
   "source": [
    "df_local = pd.read_csv(DATA_PATH+\"domain_rtt_local.csv\", usecols=[0,1,3], sep=',', keep_default_na=0)\n",
    "df_remote = pd.read_csv(DATA_PATH+\"domain_rtt_remote.csv\", usecols=[0,1,3], sep=',', keep_default_na=0)"
   ]
  },
  {
   "cell_type": "code",
   "execution_count": null,
   "metadata": {},
   "outputs": [],
   "source": [
    "import plotly.plotly as py\n",
    "from plotly import tools\n",
    "\n",
    "\n",
    "df_local_median = df_local.groupby(['cc3'], as_index=False).median()\n",
    "\n",
    "data = [dict(\n",
    "        type='choropleth',\n",
    "        autocolorscale = True,\n",
    "        locations = df_local_median['cc3'],\n",
    "        z = df_local_median['rtt'].astype(float),\n",
    "        locationmode = 'ISO-3',\n",
    "        text = df_local_median['rtt'],\n",
    "        marker = dict(\n",
    "            line = dict (\n",
    "                width = 1\n",
    "            ) ),\n",
    "        colorbar = dict(\n",
    "            title = \"RTT (ms)\",\n",
    "            x = 0.7\n",
    "            )\n",
    "        )]\n",
    "\n",
    "layout = dict(\n",
    "        title = 'RTT to locally hosted news websites',\n",
    "        geo = dict(\n",
    "            scope='africa',\n",
    "            projection=dict( type='mercator' ),\n",
    "            showlakes = False,\n",
    "            lakecolor = 'rgb(255, 255, 255)'),\n",
    "             )\n",
    "    \n",
    "fig = dict( data=data, layout=layout )\n",
    "py.iplot( fig, filename='d3-cloropleth-map' )\n",
    "\n"
   ]
  },
  {
   "cell_type": "code",
   "execution_count": null,
   "metadata": {},
   "outputs": [],
   "source": [
    "df_remote_median = df_remote.groupby(['cc3'], as_index=False).median()\n",
    "\n",
    "data = [dict(\n",
    "        type='choropleth',\n",
    "        autocolorscale = True,\n",
    "        locations = df_remote_median['cc3'],\n",
    "        z = df_remote_median['rtt'].astype(float),\n",
    "        locationmode = 'ISO-3',\n",
    "        text = df_remote_median['rtt'],\n",
    "        marker = dict(\n",
    "            line = dict (\n",
    "                width = 1\n",
    "            ) ),\n",
    "        colorbar = dict(\n",
    "            title = \"RTT (ms)\",\n",
    "            x = 0.7\n",
    "            )\n",
    "        )]\n",
    "\n",
    "layout = dict(\n",
    "        title = 'RTT to remotely hosted news websites',\n",
    "        geo = dict(\n",
    "            scope='africa',\n",
    "            projection=dict( type='mercator' ),\n",
    "            showlakes = False,\n",
    "            lakecolor = 'rgb(255, 255, 255)'),\n",
    "             )\n",
    "    \n",
    "\n",
    "fig = dict( data=data, layout=layout )\n",
    "py.iplot( fig, filename='d3-cloropleth-map' )\n"
   ]
  },
  {
   "cell_type": "markdown",
   "metadata": {},
   "source": [
    "# Box plots"
   ]
  },
  {
   "cell_type": "code",
   "execution_count": 156,
   "metadata": {},
   "outputs": [],
   "source": [
    "def boxplot_sorted(df, by, column, rot=0):\n",
    "    # use dict comprehension to create new dataframe from the iterable groupby object\n",
    "    # each group name becomes a column in the new dataframe\n",
    "    df2 = pd.DataFrame({col:vals[column] for col, vals in df.groupby(by)})\n",
    "    # find and sort the median values in this new dataframe\n",
    "    meds = df2.median().sort_values()\n",
    "    # use the columns in the dataframe, ordered sorted by median value\n",
    "    # return axes so changes can be made outside the function\n",
    "    boxprops = dict(linewidth=2)\n",
    "    return df2[meds.index].boxplot(rot=rot, return_type=\"axes\", figsize=(20,10), boxprops=boxprops)"
   ]
  },
  {
   "cell_type": "code",
   "execution_count": 158,
   "metadata": {
    "scrolled": true
   },
   "outputs": [
    {
     "data": {
      "image/png": "[encoded data removed]",
      "text/plain": [
       "<matplotlib.figure.Figure at 0x115b77dd0>"
      ]
     },
     "metadata": {},
     "output_type": "display_data"
    }
   ],
   "source": [
    "dslice = df_remote.iloc[:,[1,2]]\n",
    "\n",
    "axes = boxplot_sorted(dslice, by=[\"cc\"], column=\"rtt\")\n",
    "axes.figure.set_size_inches(20,10)\n",
    "axes.set_title(\"Boxplot of RTT for remotely hosted websites by country\")\n",
    "axes.set_ylim([0,800])\n",
    "axes.set_ylabel(\"RTT (ms)\", fontsize=12)\n",
    "plt.show()"
   ]
  },
  {
   "cell_type": "code",
   "execution_count": 160,
   "metadata": {
    "scrolled": false
   },
   "outputs": [
    {
     "data": {
      "image/png": "[encoded data removed]",
      "text/plain": [
       "<matplotlib.figure.Figure at 0x1181e6650>"
      ]
     },
     "metadata": {},
     "output_type": "display_data"
    }
   ],
   "source": [
    "dslice = df_local.iloc[:,[1,2]]\n",
    "\n",
    "axes = boxplot_sorted(dslice, by=[\"cc\"], column=\"rtt\")\n",
    "axes.figure.set_size_inches(20,10)\n",
    "axes.set_title(\"Boxplot of RTT for locally hosted websites by country\")\n",
    "axes.set_ylim([0,400])\n",
    "axes.set_ylabel(\"RTT (ms)\", fontsize=12)\n",
    "plt.show()"
   ]
  },
  {
   "cell_type": "markdown",
   "metadata": {},
   "source": [
    "## CDF of latency per country"
   ]
  },
  {
   "cell_type": "code",
   "execution_count": null,
   "metadata": {
    "scrolled": true
   },
   "outputs": [],
   "source": [
    "n_bins = 500\n",
    "\n",
    "fig, axs = plt.subplots(8, 5, figsize=(25, 25))\n",
    "\n",
    "ccs = remoteDict.keys()\n",
    "\n",
    "count=0\n",
    "for i in range(0,8):\n",
    "    for j in range(0,5):\n",
    "        count = count+1\n",
    "        \n",
    "        if count == len(ccs):\n",
    "            break\n",
    "        \n",
    "        cc = ccs[count]\n",
    "        remoteArray = remoteDict[cc]\n",
    "        \n",
    "        \n",
    "        try:\n",
    "            localArray = localDict[cc]\n",
    "            axs[i,j].hist([remoteDict[cc], localDict[cc]], n_bins, normed=1, histtype='step', cumulative=True, \n",
    "                          linewidth=2, label=['Remote','Local'], color=['orange','royalblue'] )\n",
    "        except:\n",
    "            axs[i, j].hist(remoteDict[cc], n_bins, normed=1, histtype='step', cumulative=True, \n",
    "                           linewidth=2, label='Remote', color='orange')\n",
    "        \n",
    "        axs[i, j].set_title(ccs[count])\n",
    "        axs[i, j].set_xlabel('RTT (ms)')\n",
    "        axs[i, j].set_ylabel('CDF')\n",
    "\n",
    "fig.subplots_adjust(hspace=0.8, wspace=0.5)\n",
    "plt.savefig(\"../data/plots/latency_per_country_cdf.svg\")\n",
    "plt.show()"
   ]
  },
  {
   "cell_type": "code",
   "execution_count": null,
   "metadata": {
    "collapsed": true
   },
   "outputs": [],
   "source": []
  }
 ],
 "metadata": {
  "kernelspec": {
   "display_name": "Python 2",
   "language": "python",
   "name": "python2"
  },
  "language_info": {
   "codemirror_mode": {
    "name": "ipython",
    "version": 2
   },
   "file_extension": ".py",
   "mimetype": "text/x-python",
   "name": "python",
   "nbconvert_exporter": "python",
   "pygments_lexer": "ipython2",
   "version": "2.7.13"
  }
 },
 "nbformat": 4,
 "nbformat_minor": 2
}
