{
 "cells": [
  {
   "cell_type": "markdown",
   "metadata": {},
   "source": [
    "### from EXCEL to CSV"
   ]
  },
  {
   "cell_type": "code",
   "execution_count": 71,
   "metadata": {},
   "outputs": [],
   "source": [
    "from openpyxl import load_workbook\n",
    "from openpyxl.compat import range\n",
    "\n",
    "wb = load_workbook(filename='data/news_sites.xlsx')\n",
    "\n",
    "f = open('data/africanews.csv','w')\n",
    "\n",
    "f.write(\"cc,region,name,domain,type,category,language,comment\\n\")\n",
    "for ws in wb:\n",
    "    for row in ws.rows:\n",
    "        s = []\n",
    "        \n",
    "        #country_code\n",
    "        s.append(ws.title)\n",
    "        \n",
    "        #skip empty rows\n",
    "        if (row[0].value is None or row[1].value is None):\n",
    "            continue\n",
    "       \n",
    "        for cell in row:\n",
    "            if cell.value is not None:\n",
    "                if cell.hyperlink is not None:\n",
    "                    s.append(cell.value)\n",
    "                    domain = re.search('[(http)(https)].\\/\\/(.*?)\\/', cell.hyperlink.target)\n",
    "                    if domain:\n",
    "                        s.append(domain.group(1))\n",
    "                    else:\n",
    "                        s.append(cell.hyperlink.target)\n",
    "                else:\n",
    "                    s.append(cell.value)\n",
    "            else:\n",
    "                s.append(',')\n",
    "        row = \",\".join(s)\n",
    "        row = row.encode('utf-8').strip()\n",
    "        f.write(row + '\\n')\n",
    "\n",
    "f.close()\n",
    "            "
   ]
  },
  {
   "cell_type": "code",
   "execution_count": null,
   "metadata": {
    "collapsed": true
   },
   "outputs": [],
   "source": []
  }
 ],
 "metadata": {
  "kernelspec": {
   "display_name": "Python 3",
   "language": "python",
   "name": "python3"
  },
  "language_info": {
   "codemirror_mode": {
    "name": "ipython",
    "version": 3
   },
   "file_extension": ".py",
   "mimetype": "text/x-python",
   "name": "python",
   "nbconvert_exporter": "python",
   "pygments_lexer": "ipython3",
   "version": "3.6.5"
  }
 },
 "nbformat": 4,
 "nbformat_minor": 2
}
