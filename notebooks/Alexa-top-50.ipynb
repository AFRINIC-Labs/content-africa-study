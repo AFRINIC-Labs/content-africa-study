{
 "cells": [
  {
   "cell_type": "code",
   "execution_count": 36,
   "metadata": {},
   "outputs": [
    {
     "name": "stdout",
     "output_type": "stream",
     "text": [
      "cc|rank|domain|dailytime|pageviews|search_traffic|sites_linking\n",
      "done\n"
     ]
    }
   ],
   "source": [
    "from bs4 import BeautifulSoup\n",
    "import re\n",
    "from collections import defaultdict\n",
    "import urllib2\n",
    "import urllib\n",
    "import csv\n",
    "import json\n",
    "\n",
    "ccs = ['EG', 'BJ', 'CI', 'CV', 'GH', 'GM', 'GN', 'GW', 'AO', 'CF', 'CG', 'CM', 'GA', 'GQ', 'TD', 'BI', 'DJ', 'ER', 'ET', 'KM', 'BW', 'MA', 'SD', 'TN', 'LR', 'ML', 'MR', 'NE', 'NG', 'SL', 'SN', 'TG', 'ST', 'KE', 'MG', 'MU', 'MW', 'MZ', 'RE', 'RW', 'SC', 'SO', 'UG', 'LS', 'NA', 'SZ', 'ZA', 'DZ', 'EH', 'LY', 'BF', 'SH', 'CD', 'TZ', 'YT', 'ZM', 'ZW']\n",
    "\n",
    "ALEXA_URL = \"https://www.alexa.com/topsites/countries/\"\n",
    "\n",
    "f = open(\"data/top50.csv\",\"w\")\n",
    "print \"cc|rank|domain|dailytime|pageviews|search_traffic|sites_linking\"\n",
    "\n",
    "for cc in ccs:\n",
    "    url = ALEXA_URL + cc\n",
    "    \n",
    "    try:\n",
    "        res = urllib2.urlopen(url)\n",
    "    except Exception, e:\n",
    "        print e\n",
    "    #except urllib2.HTTPError, e:\n",
    "    #    print e.code\n",
    "    #except urllib2.URLError, e:\n",
    "    #    print e.args\n",
    "        \n",
    "    soup = BeautifulSoup(res, \"html.parser\")\n",
    "    mydivs = soup.findAll(\"div\", {\"class\": \"tr site-listing\"})\n",
    "    \n",
    "    for div in mydivs:\n",
    "        rank = div.findAll(\"div\", {\"class\": \"td number\"})\n",
    "        site = div.findAll('a')\n",
    "        tdrightdiv = div.findAll(\"div\", {\"class\": \"td right\"})\n",
    "        row =  cc + \"|\" + rank[0].text + \"|\" + site[0].text + \"|\" + tdrightdiv[0].text + \"|\" + tdrightdiv[1].text + \"|\" + tdrightdiv[2].text + \"|\" + tdrightdiv[3].text.replace(',', '') + \"\\n\"\n",
    "        f.write(row)\n",
    "        \n",
    "f.close()\n",
    "print \"done\"\n"
   ]
  },
  {
   "cell_type": "code",
   "execution_count": null,
   "metadata": {
    "collapsed": true
   },
   "outputs": [],
   "source": []
  }
 ],
 "metadata": {
  "kernelspec": {
   "display_name": "Python 2",
   "language": "python",
   "name": "python2"
  },
  "language_info": {
   "codemirror_mode": {
    "name": "ipython",
    "version": 2
   },
   "file_extension": ".py",
   "mimetype": "text/x-python",
   "name": "python",
   "nbconvert_exporter": "python",
   "pygments_lexer": "ipython2",
   "version": "2.7.13"
  }
 },
 "nbformat": 4,
 "nbformat_minor": 2
}
